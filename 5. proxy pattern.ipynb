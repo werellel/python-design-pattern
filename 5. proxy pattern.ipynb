{
 "cells": [
  {
   "cell_type": "markdown",
   "metadata": {},
   "source": [
    "## 프록시 디자인 패턴의 개요\n",
    "\n",
    "프록시란 요청자와 공급자 사이의 중재자를 말한다.\n",
    "\n",
    "디자인 패턴 관점에서 Proxy 클래스는 객체의 인터페이스 역할을 한다. \n",
    "\n",
    "객체는 네트워크 연결, 메모리, 파일에 저장된 객체 등 다양한 종류에 해당한다.\n",
    "\n",
    "Proxy 클래스는 반환해 사용할 객체를 감싸는 포장지 또는 에이전트 객체다.\n",
    "\n",
    "프록시 패턴의 주목적은 실제 객체에 접근할 수 있는 대리 객체나 껍데기를 제공하는 것이다.\n",
    "\n",
    "프록시 패턴의 역할\n",
    "\n",
    "* 복잡한 시스템을 간간하게 표현할 수 있다.\n",
    "* 객체에 대한 보안을 제공한다.\n",
    "* 일반적으로 클라이언트 객체에 직접 접근할 수 없다.\n",
    "* 다른 서버에 존재하는 외부 객체에 대한 로컬 인터페이스를 제공한다. 분산 시스템 구조에서 클라이언트가 원격으로 특정 커맨트를 권한이 없어 수행하지 못하는 경우가 있다. 이런 경우 로컬 객체(프록시)에 요청을 보내고 프록시는 원격 서버에서 요청을 수행한다.\n",
    "* 메모리 사용량이 높은 객체를 다루는 가벼운 핸들러 역할을 한다. 예를 들어 웹사이트 사용자의 프로필 사진은 목록에는 작은 이미지로 표시하고 세부 프로필에을 보여줄 때만 실제 사진을 로드하는 것이 효율적이다.\n",
    "\n",
    "배우와 아이젠트의 관계를 통해 예제 구현"
   ]
  },
  {
   "cell_type": "code",
   "execution_count": 2,
   "metadata": {},
   "outputs": [
    {
     "name": "stdout",
     "output_type": "stream",
     "text": [
      "Actor 출연 가능\n"
     ]
    }
   ],
   "source": [
    "class Actor(object):\n",
    "    def __init__(self):\n",
    "        self.isBusy = False\n",
    "\n",
    "    def occupied(self):\n",
    "        self.isBusy = True\n",
    "        print(type(self).__name__, '다른 영화 촬영 중')\n",
    "    \n",
    "    def available(self):\n",
    "        self.isBusy = False\n",
    "        print(type(self).__name__, '출연 가능')\n",
    "    \n",
    "    def getStatus(self):\n",
    "        return self.isBusy\n",
    "\n",
    "class Agent(object):\n",
    "    def __init__(self):\n",
    "        self.principal = None\n",
    "    \n",
    "    def work(self):\n",
    "        self.actor = Actor()\n",
    "        if self.actor.getStatus():\n",
    "            self.actor.occupied()\n",
    "        else:\n",
    "            self.actor.available()\n",
    "r = Agent()\n",
    "r.work()"
   ]
  },
  {
   "cell_type": "markdown",
   "metadata": {},
   "source": [
    "프록시 패턴의 역할은 다음과 같다.\n",
    "    * 특정 객체의 대리 객체를 제공해 접근을 제어\n",
    "    * 분산 구조를 지원하기 위한 레이어 또는 인터페이스를 제공\n",
    "    * 의도하지 않은 케이스로부터 객체를 보호\n",
    "    \n",
    "## 프록시의 여러 유형들\n",
    "\n",
    "### 가상 프록시\n",
    "\n",
    "인스턴스화하기엔 무서운 객체의 플레이스홀더 역할을 한다. 웹에서 큰 이미지를 클릭했을 때 무거운 데이터를 불러오도록 한다.\n",
    "\n",
    "### 원격 프록시\n",
    "\n",
    "원격 서버나 다른 주소 공간에 존재하는 객체에 대한 로컬 인스턴스를 생성한다. 다수의 웹 서버와 데이터베이스 서버, 작업 서버, 캐시 서버 등으로 구성된 애플리케이션의 모니터링 시스템을 구성한다고 했을 때 각 서버의 CPU와 디스크 사용량을 모니터링하려면 모니터링 서버에서 각 서버의 실제 사용량 수치를 얻는 원격 명령을 수행할 수 있어야 한다. \n",
    "\n",
    "### 보호 프록시\n",
    "\n",
    "근래의 분산 시스템에서 웹 애플리케이션은 여러 서비스를 조합해 기능을 제공한다. 이런 구조에서 사용자의 인증과 허가를 담당하는 인증 서비스가 보호 프록시 서버다. 허가 받지 않은 에이전트로부터 보호한다.\n",
    "\n",
    "### 스마트 프록시\n",
    "\n",
    "사용자가 객체에 접근했을 때 추가적인 행동을 취한다. \n",
    "\n",
    "## 프록시 패턴의 사용 사례\n",
    "\n",
    "현금 카드의 사례\n",
    "\n",
    "* 클라이언트 You 클래스\n",
    "* make_payment() 메소드를 사용해 결제\n",
    "* \\__init__()는 프록시를 호출하고 생성하는 특수 메소드\n",
    "* make_payment() 메소드를 내부적으로 Proxy의 메소드를 호출해 금액을 지불\n",
    "* 결제가 성공하면 \\__del__() 메소드를 호출"
   ]
  },
  {
   "cell_type": "code",
   "execution_count": 7,
   "metadata": {},
   "outputs": [],
   "source": [
    "class You:\n",
    "    def __init__(self):\n",
    "        self.debitCard = DebitCard()\n",
    "        self.isPurchased = None\n",
    "    \n",
    "    def make_payment(self):\n",
    "        self.isPurchased = self.debitCard.do_pay()\n",
    "    \n",
    "    def __del__(self):\n",
    "        if self.isPurchased:\n",
    "            print(\"구매\")\n",
    "        else:\n",
    "            print(\"돈이 부족\")"
   ]
  },
  {
   "cell_type": "code",
   "execution_count": 8,
   "metadata": {},
   "outputs": [],
   "source": [
    "from abc import ABCMeta, abstractmethod\n",
    "\n",
    "class Payment(metaclass=ABCMeta):\n",
    "    \n",
    "    @abstractmethod\n",
    "    def do_pay(self):\n",
    "        pass\n",
    "\n",
    "class Bank(Payment):\n",
    "    def __init__(self):\n",
    "        self.card = None\n",
    "        self.account = None\n",
    "    \n",
    "    def _getAccount(self):\n",
    "        self.account = self.card\n",
    "        return self.account\n",
    "    \n",
    "    def _hasFunds(self):\n",
    "        print(\"돈이 충분한지 확인\")\n",
    "        return True\n",
    "    def setCard(self, card):\n",
    "        self.card = card\n",
    "    \n",
    "    def do_pay(self):\n",
    "        if self._hasFunds():\n",
    "            print(\"지불\")\n",
    "            return True\n",
    "        else:\n",
    "            print(\"잔액이 부족\")\n",
    "            return False\n",
    "\n",
    "class DebitCard(Payment):\n",
    "    def __init__(self):\n",
    "        self.bank = Bank()\n",
    "    \n",
    "    def do_pay(self):\n",
    "        card = input(\"프록시 카드번호 입력\")\n",
    "        self.bank.setCard(card)\n",
    "        return self.bank.do_pay()"
   ]
  },
  {
   "cell_type": "code",
   "execution_count": 9,
   "metadata": {},
   "outputs": [
    {
     "name": "stdout",
     "output_type": "stream",
     "text": [
      "프록시 카드번호 입력123\n",
      "돈이 충분한지 확인\n",
      "지불\n"
     ]
    }
   ],
   "source": [
    "you = You()\n",
    "you.make_payment()"
   ]
  },
  {
   "cell_type": "markdown",
   "metadata": {},
   "source": [
    "## 프록시 패턴의 장점\n",
    "\n",
    "* 무거운 객체 특히 자주 사용되는 객체를 캐싱해 애플리케이션의 성능을 향상시킨다.\n",
    "* RealSubject에 대한 접근 요청을 인증한다. 권한이 있을 때만 유효\n",
    "* 원격 프록시는 원격 서버 간의 네트워크 연결과 데이터베이스 연결 구현에 적합하며 시스템 모니터링 용도로 사용될 수 있다.\n",
    "\n",
    "## 퍼사드와 프록시 패턴 비교\n",
    "\n",
    "* 프록시 패턴: 실 객체의 대리 객체를 재공해 접근 제어, 타켓 객체와 동일한 인터페이스 구조를 가지며 타켓에 대한 참조를 가지고 있다. 클라이언트와 감싸고 있는 객체 사이의 중재자 역할을 한다.\n",
    "\n",
    "* 퍼사드 패턴: 클래스의 서브시스템에 대한 인터페이스를 제공, 서브시스템 간의 의존도와 통신을 최소화, 퍼사드 객체는 하나의 통합된 간단한 인터페이스를 제공"
   ]
  }
 ],
 "metadata": {
  "kernelspec": {
   "display_name": "Python 3",
   "language": "python",
   "name": "python3"
  },
  "language_info": {
   "codemirror_mode": {
    "name": "ipython",
    "version": 3
   },
   "file_extension": ".py",
   "mimetype": "text/x-python",
   "name": "python",
   "nbconvert_exporter": "python",
   "pygments_lexer": "ipython3",
   "version": "3.7.3"
  }
 },
 "nbformat": 4,
 "nbformat_minor": 2
}
