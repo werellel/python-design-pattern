{
 "cells": [
  {
   "cell_type": "markdown",
   "metadata": {},
   "source": [
    "디자인 패턴을 크게 생성과 구조, 행위 3종류로 분류한다.\n",
    "\n",
    "* 객체지향 프로그래밍의 이해\n",
    "* 객체지향적 디자인 패턴의 원리\n",
    "* 디자인 패턴의 종류와 맥락에 대한 이해\n",
    "* 동적 프로그래밍 언어 패턴\n",
    "* 생성과 구조, 행위 패턴"
   ]
  },
  {
   "cell_type": "code",
   "execution_count": null,
   "metadata": {},
   "outputs": [],
   "source": [
    "class Person(object):\n",
    "    def __init__(self, name, age):\n",
    "        self.name = name\n",
    "        self.age = age\n",
    "    \n",
    "    def get_person(self,):\n",
    "        return \"<Person (%s, %s)>\" %(self.name, self.age)\n",
    "\n",
    "p = Person(\"john\", 32)\n",
    "print(\"Type of Object: \", type(p), \"Memory Address: \", id(p))"
   ]
  }
 ],
 "metadata": {
  "kernelspec": {
   "display_name": "Python 3",
   "language": "python",
   "name": "python3"
  },
  "language_info": {
   "codemirror_mode": {
    "name": "ipython",
    "version": 3
   },
   "file_extension": ".py",
   "mimetype": "text/x-python",
   "name": "python",
   "nbconvert_exporter": "python",
   "pygments_lexer": "ipython3",
   "version": "3.7.3"
  }
 },
 "nbformat": 4,
 "nbformat_minor": 2
}
