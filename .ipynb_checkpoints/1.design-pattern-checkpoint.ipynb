{
 "cells": [
  {
   "cell_type": "markdown",
   "metadata": {},
   "source": [
    "디자인 패턴을 크게 생성과 구조, 행위 3종류로 분류한다.\n",
    "\n",
    "* 객체지향 프로그래밍의 이해\n",
    "* 객체지향적 디자인 패턴의 원리\n",
    "* 디자인 패턴의 종류와 맥락에 대한 이해\n",
    "* 동적 프로그래밍 언어 패턴\n",
    "* 생성과 구조, 행위 패턴"
   ]
  },
  {
   "cell_type": "markdown",
   "metadata": {},
   "source": [
    "## 객체지향 프로그래밍\n",
    "\n",
    "파이썬은 객체지향 언어다. 파이썬의 모든 것은 객체다. 파이썬의 클래스 인스턴스와 변수는 개별적인 메모리 공간에 저장된다.\n",
    "\n",
    "### 객체\n",
    "\n",
    "* 프로그램 내의 개체(Entity)이다.\n",
    "* 개체는 다른 개체와 상호작용하며 목적을 달성한다.\n",
    "\n",
    "### 클래스\n",
    "\n",
    "* 클래스는 속성과 행동을 포함하는 객체를 정의한다.\n",
    "* 속성은 데이터의 요소이다.\n",
    "* 함수는 특정 작업을 수행한다.\n",
    "* 클래스에는 객체의 초기 상태를 설정하는 생성자가 있다.\n",
    "* 클래스는 일종의 템플릿이라 재사용 가능하다.\n",
    "\n",
    "### 메소드\n",
    "\n",
    "* 객체의 행위를 나타낸다.\n",
    "* 속성을 조작하고 작업을 수행한다.\n"
   ]
  },
  {
   "cell_type": "code",
   "execution_count": 2,
   "metadata": {},
   "outputs": [
    {
     "name": "stdout",
     "output_type": "stream",
     "text": [
      "Type of Object:  <class '__main__.Person'> Memory Address:  4509270368\n"
     ]
    }
   ],
   "source": [
    "class Person(object):\n",
    "    def __init__(self, name, age):\n",
    "        self.name = name\n",
    "        self.age = age\n",
    "    \n",
    "    def get_person(self,):\n",
    "        return \"<Person (%s, %s)>\" %(self.name, self.age)\n",
    "\n",
    "p = Person(\"john\", 32)\n",
    "print(\"Type of Object: \", type(p), \"Memory Address: \", id(p))"
   ]
  },
  {
   "cell_type": "markdown",
   "metadata": {},
   "source": [
    "## 객체지행 프로그래밍의 주요 기능\n",
    "\n",
    "### 캡슐화\n",
    "\n",
    "* 객체의 기능과 상태 정보를 외부로부터 윽닉한다.\n",
    "* 클라이언트는 객체의 내부 구조 및 상태를 직접 수정할 수 없다.\n",
    "* 클라이언트는 객체의 내부 구조 및 상태를 수정 요청한다. get과 set 같은 함수를 통해 내부 상태를 변경한다.\n",
    "* 파이썬에는 public private protected 같은 캡슐화에 필요한 접근 제어 키워드가 없다. \\_를 붙여 접근을 제어한다.\n",
    "\n",
    "### 다형성\n",
    "\n",
    "* 객체는 함수 인자에 따라 다른 기능을 한다.\n",
    "* 동일한 인터페이스를 여러 형식의 객체들이 공유한다.\n",
    "* + 연산자는 정수를 더하거나 문자열을 합칠 때 모두 사용할 수 있다"
   ]
  },
  {
   "cell_type": "code",
   "execution_count": 3,
   "metadata": {},
   "outputs": [
    {
     "name": "stdout",
     "output_type": "stream",
     "text": [
      "t 2 3\n"
     ]
    }
   ],
   "source": [
    "a = 'test'\n",
    "b = (1, 2, 3)\n",
    "c = [1, 2, 3]\n",
    "print(a[0], b[1], c[2])"
   ]
  },
  {
   "cell_type": "markdown",
   "metadata": {},
   "source": [
    "### 상속\n",
    "\n",
    "* 클래스의 기능이 부모 클래스로부터 파생되는 것을 말한다.\n",
    "* 부모 클래스에서 정의된 함수를 재사용할 수 있고 애플리케이션의 기본 기능을 확장한다.\n",
    "* 상속은 여러 클래스 객체의 상호작용을 기반으로 계층을 형성한다."
   ]
  },
  {
   "cell_type": "code",
   "execution_count": 4,
   "metadata": {},
   "outputs": [
    {
     "name": "stdout",
     "output_type": "stream",
     "text": [
      "a\n"
     ]
    }
   ],
   "source": [
    "class A:\n",
    "    def a(self):\n",
    "        print('a')\n",
    "class B(A):\n",
    "    def b(self):\n",
    "        print('b')\n",
    "b = B()\n",
    "b.a()"
   ]
  },
  {
   "cell_type": "markdown",
   "metadata": {},
   "source": [
    "### 추상화\n",
    "\n",
    "* 클라이언트가 클래스 객체를 생성하고 인터페이스에 정의된 함수를 호출할 수 있는 인터페이스를 제공\n",
    "* 클라이언트는 클래스의 복잡한 내부 구현에 대한 이해없이 간편하게 인터페이스를 사용할 수 있다."
   ]
  },
  {
   "cell_type": "code",
   "execution_count": 9,
   "metadata": {},
   "outputs": [
    {
     "name": "stdout",
     "output_type": "stream",
     "text": [
      "6\n"
     ]
    }
   ],
   "source": [
    "class Mul:\n",
    "    def __init__(self):\n",
    "        self.value = 1\n",
    "    \n",
    "    def mul(self, value):\n",
    "        self.value *= value\n",
    "mul = Mul()\n",
    "for i in range(1, 4):\n",
    "    mul.mul(i)\n",
    "print(mul.value)"
   ]
  },
  {
   "cell_type": "markdown",
   "metadata": {},
   "source": [
    "### 컴포지션\n",
    "\n",
    "* 객체나 클래스를 더 복잡한 자료 구조나 모듈로 묶는 행위\n",
    "* 컴포지션을 통해 특정 객체는 다른 모듈의 함수를 호출할 수 있다. 상속없이 외부 기능을 사용할 수 있다."
   ]
  },
  {
   "cell_type": "code",
   "execution_count": 10,
   "metadata": {},
   "outputs": [
    {
     "name": "stdout",
     "output_type": "stream",
     "text": [
      "b\n",
      "a\n"
     ]
    }
   ],
   "source": [
    "class A:\n",
    "    def a(self):\n",
    "        print('a')\n",
    "class B:\n",
    "    def b(self):\n",
    "        print('b')\n",
    "        A().a()\n",
    "b = B()\n",
    "b.b()"
   ]
  },
  {
   "cell_type": "markdown",
   "metadata": {},
   "source": [
    "## 객체지향 디자인의 기본 원칙\n",
    "\n",
    "### 개방-패쇄 원칙\n",
    "\n",
    "* 클래스와 객체, 메소드 모두 확장엔 개방적이고 수정엔 패쇄적이어야 한다.\n",
    "* 클래스 확장만으로 새로운 기능을 구현할 수 있어야 한다.\n",
    "* 기본 클래스는 건드리지 않고 클래스를 확장해 새로운 기능을 추가 구현할 수 있는 구조이다.\n",
    "* 기본 클래스를 수정하지 않기 때문에 실수가 줄어든다.\n",
    "* 기존 코드의 호환성을 보장한다.\n",
    "\n",
    "### 제어 반전 원칙\n",
    "\n",
    "* 상위 모듈은 하위 모듈에 의존적이지 않아야 한다.\n",
    "* 모듈 간의 낮은 상호 의존도는 시스템 복잡도를 줄인다.\n",
    "* 관련 모듈을 연결하는 추상화 계층 덕분에 모듈 간 상호 관계를 쉽게 관리할 수 있다.\n",
    "\n",
    "### 인터페이스 분리 원칙\n",
    "\n",
    "* 클라이언트는 불필요한 인터페이스에 의존하지 않아야 한다.\n",
    "* 인터페이스에 특화된 메소드만 있는 가벼운 인터페이스를 작성하게 된다.\n",
    "* 의도하지 않은 메소드로 인터페이스가 채워지지 않도록 한다.\n",
    "\n",
    "### 단일 책임 원칙\n",
    "\n",
    "* 클래스는 하나의 책임만 가져야 한다.\n",
    "* 두 가지 이상의 기능이 필요하다면 클래스를 나눠야 한다.\n",
    "* 특정 기능을 수정할 때 관련 클래스 외에는 건드릴 필요가 없다.\n",
    "* 한 개의 클래스에 여러 가지 기능이 있다면 관련된 모든 클래스를 수정해야 하는 상황이 발생할 수 있다\n",
    "\n",
    "## 치환 원칙\n",
    "\n",
    "* 상속받는 클래스는 기본 클래스의 역할을 완전히 치환할 수 있어야 한다."
   ]
  },
  {
   "cell_type": "markdown",
   "metadata": {},
   "source": [
    "## 디자인 패턴의 개념\n",
    "\n",
    "### 디자인 패턴의 주요 기능\n",
    "\n",
    "* 언어에 독립적이며 모든 프로그래밍 언어에 적용할 수 있다.\n",
    "* 새로운 패턴이 아직도 연구되고 있다.\n",
    "* 목적에 따라 변경될 수 있어 개발에 유용하다.\n",
    "\n",
    "### 디자인 패턴 용어\n",
    "\n",
    "* 스니펫: 데이터베이스에 연결하는 파이썬 코드 등의 특수한 목적을 위한 코드\n",
    "* 디자인: 문제에 대한 해결책\n",
    "* 스탠다드: 문제를 해결하는 대표적인 방식\n",
    "* 패턴: 유효성이 검증된 효율적이고 확장 가능한 해결책\n",
    "\n",
    "## 디자인 패턴 분류\n",
    "\n",
    "* 생성 패턴\n",
    "* 구조 패턴\n",
    "* 행위 패턴\n",
    "\n",
    "### 생성 패턴\n",
    "\n",
    "* 객체가 생성되는 방식을 중시한다.\n",
    "* 객체 생성 관련 상세 로직을 숨긴다.\n",
    "* 코드는 생성하려는 객체형과는 독립적이다.\n",
    "* 싱글톤 패턴은 생성 패턴의 한 종류이다.\n",
    "\n",
    "### 구조 패턴\n",
    "\n",
    "* 클래스와 객체를 더 큰 결과물로 합칠 수 있는 구조로 설계한다.\n",
    "* 구조를 간결화하고 클래스와 객체 간의 상호관계를 파악할 수 있다.\n",
    "* 클래스 상속과 컴포지션을 중시한다.\n",
    "* 어댑터 패턴은 구조 패턴의 한 종류다.\n",
    "\n",
    "### 행위 패턴\n",
    "\n",
    "* 객체 간의 상호작용과 책임을 중시한다.\n",
    "* 객체는 상호작용하지만 느슨하게 결합돼야 한다.\n",
    "* 옵서버 패턴은 행위 패턴의 한 종류다."
   ]
  }
 ],
 "metadata": {
  "kernelspec": {
   "display_name": "Python 3",
   "language": "python",
   "name": "python3"
  },
  "language_info": {
   "codemirror_mode": {
    "name": "ipython",
    "version": 3
   },
   "file_extension": ".py",
   "mimetype": "text/x-python",
   "name": "python",
   "nbconvert_exporter": "python",
   "pygments_lexer": "ipython3",
   "version": "3.7.3"
  }
 },
 "nbformat": 4,
 "nbformat_minor": 2
}
