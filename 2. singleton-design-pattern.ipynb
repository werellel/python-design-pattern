{
 "cells": [
  {
   "cell_type": "markdown",
   "metadata": {},
   "source": [
    "## 싱글톤 디자인 패턴 개요\n",
    "\n",
    "싱글톤 디자인 패턴은 글로벌하게 접근 가능한 단 한개의 객체만을 허용하는 패턴이다.\n",
    "주로 로깅이나 데이터베이스 관련 작업, 프린터 스풀러 등 동일한 리소스에 대한 동시 요청의 충돌을 막기 위해 한 개의 인스턴스만 필요한 경우에 사용한다.\n",
    "\n",
    "* 클래스에 대한 단일 객체 생성\n",
    "* 전역 객체 제공\n",
    "* 공유된 리소스에 대한 동시 접근 제어\n",
    "\n",
    "### 파이썬 싱글톤 패턴 구현"
   ]
  },
  {
   "cell_type": "code",
   "execution_count": 1,
   "metadata": {},
   "outputs": [
    {
     "name": "stdout",
     "output_type": "stream",
     "text": [
      "<__main__.Singleton object at 0x10e0b29e8>\n",
      "<__main__.Singleton object at 0x10e0b29e8>\n"
     ]
    }
   ],
   "source": [
    "class Singleton(object):\n",
    "    def __new__(cls):\n",
    "        if not hasattr(cls, 'instance'):\n",
    "            cls.instance = super(Singleton, cls).__new__(cls)\n",
    "        return cls.instance\n",
    "s = Singleton()\n",
    "print(s)\n",
    "s1 = Singleton()\n",
    "print(s1)"
   ]
  },
  {
   "cell_type": "markdown",
   "metadata": {},
   "source": [
    "\\__new__ 함수를 오버라이드해 객체를 생성한다.\n",
    "\n",
    "### 게으른 초기화\n",
    "\n",
    "인스턴스가 꼭 필요할 떄 생성한다.\n",
    "사용할 수 있는 리소스가 제한적인 상황일 떄 객체가 꼭 필요한 시점에 생성하는 방식이다."
   ]
  },
  {
   "cell_type": "code",
   "execution_count": 7,
   "metadata": {},
   "outputs": [
    {
     "name": "stdout",
     "output_type": "stream",
     "text": [
      "init called\n",
      "<__main__.Singleton object at 0x10e160358>\n",
      "init called\n",
      "<__main__.Singleton object at 0x10e14ff98>\n",
      "<__main__.Singleton object at 0x10e14ff98>\n"
     ]
    }
   ],
   "source": [
    "class Singleton:\n",
    "    __instance = None\n",
    "    def __init__(self):\n",
    "        if not Singleton.__instance:\n",
    "            print(\"init called\")\n",
    "        else:\n",
    "            print('Instance existed')\n",
    "            \n",
    "    @classmethod\n",
    "    def getInstance(cls):\n",
    "        if not cls.__instance:\n",
    "            cls.__instance = Singleton()\n",
    "        return cls.__instance\n",
    "\n",
    "s = Singleton()\n",
    "print(s)\n",
    "s1 = Singleton.getInstance()\n",
    "print(s1)\n",
    "s2 = Singleton.getInstance()\n",
    "print(s2)"
   ]
  },
  {
   "cell_type": "markdown",
   "metadata": {},
   "source": [
    "### 모듈 싱글톤\n",
    "\n",
    "파이썬의 임포트 방식 때문에 모든 모듈은 기본적으로 싱글톤이다.\n",
    "파이썬의 작동 방식\n",
    "    1. 모듈이 임포트됐는지 확인\n",
    "    2. 임포트 됐다면 해당 객체를 반환, 아면 임포트하고 인스턴스화\n",
    "    3. 모듈은 임포트와 동시에 초기화한다. 하지만 같은 모듈을 다시 임포트하면 초기화하지 않는다. 한 개의 객체만 유지하고 반환하는 싱글톤 방식"
   ]
  },
  {
   "cell_type": "markdown",
   "metadata": {},
   "source": [
    "### 모노스테이트 싱글톤 패턴\n",
    "\n",
    "모든 객체가 같은 상태를 공유하는 패턴"
   ]
  },
  {
   "cell_type": "code",
   "execution_count": 10,
   "metadata": {},
   "outputs": [
    {
     "name": "stdout",
     "output_type": "stream",
     "text": [
      "<__main__.Borg object at 0x10e14fcc0>\n",
      "<__main__.Borg object at 0x10e14fda0>\n",
      "{'1': '2', 'x': 4}\n",
      "{'1': '2', 'x': 4}\n",
      "4\n",
      "4\n"
     ]
    }
   ],
   "source": [
    "class Borg:\n",
    "    __shared_state = {\"1\":\"2\"}\n",
    "    def __init__(self):\n",
    "        self.x = 1\n",
    "        self.__dict__ = self.__shared_state\n",
    "        pass\n",
    "\n",
    "b = Borg()\n",
    "b1 = Borg()\n",
    "b.x = 4\n",
    "\n",
    "print(b)\n",
    "print(b1)\n",
    "print(b.__dict__)\n",
    "print(b1.__dict__)\n",
    "print(b.x)\n",
    "print(b1.x)\n"
   ]
  },
  {
   "cell_type": "markdown",
   "metadata": {},
   "source": [
    "파이썬은 \\__dict__ 변수에 클래스 내 모든 객체의 상태를 저장한다.\n",
    "\n",
    "x값을 4로 설정하면 모든 객체가 공유하는 \\__dict__ 변수에 복사돼 b1의 x값도 4가 된다."
   ]
  },
  {
   "cell_type": "markdown",
   "metadata": {},
   "source": [
    "### 싱글톤과 메타클래스\n",
    "\n",
    "메클래스는 클래스의 클래스다. 클래스는 자신의 메타클래스의 인스턴스다.\n",
    "\n",
    "클래스는 메타클래스가 정의한다."
   ]
  },
  {
   "cell_type": "code",
   "execution_count": 11,
   "metadata": {},
   "outputs": [
    {
     "name": "stdout",
     "output_type": "stream",
     "text": [
      "<class 'int'>\n",
      "<class 'type'>\n"
     ]
    }
   ],
   "source": [
    "a = 5\n",
    "print(type(a))\n",
    "print(type(int))"
   ]
  },
  {
   "cell_type": "markdown",
   "metadata": {},
   "source": [
    "int의 메타클래스는 type 클래스이다.\n",
    "\n",
    "클래스를 생성하면 A = type(클래스명, 베이스 클래스, 속성값)을 실행한다.\n",
    "\n",
    "이미 정의된 메타클래스가 있다면 A = MetaCLs(클래스명, 베이스 클래스, 속성값)을 실행해 클래스를 생성한다."
   ]
  },
  {
   "cell_type": "code",
   "execution_count": 35,
   "metadata": {},
   "outputs": [
    {
     "name": "stdout",
     "output_type": "stream",
     "text": [
      "MyInt <class '__main__.intStr'> (4, 5)\n",
      "객체에 원하는 작업 수행\n",
      "cls:  <class '__main__.intStr'>\n",
      "<__main__.intStr object at 0x10e1a8550>\n"
     ]
    }
   ],
   "source": [
    "class MyInt(type):\n",
    "    def __call__(cls, *args, **kwags):\n",
    "        print(\"MyInt\", cls, args)\n",
    "        args = tuple(map(str, args))\n",
    "        print(\"객체에 원하는 작업 수행\")\n",
    "        print(\"cls: \", cls)\n",
    "        return type.__call__(cls, *args, **kwags)\n",
    "    \n",
    "class intStr(metaclass=MyInt):\n",
    "    def __init__(self, x, y):\n",
    "        self.x = x\n",
    "        self.y = y\n",
    "        \n",
    "i = intStr(4, 5)\n",
    "print(i)"
   ]
  },
  {
   "cell_type": "code",
   "execution_count": 28,
   "metadata": {},
   "outputs": [
    {
     "name": "stdout",
     "output_type": "stream",
     "text": [
      "4 5\n",
      "<class 'str'> <class 'str'>\n"
     ]
    }
   ],
   "source": [
    "print(i.x, i.y)\n",
    "print(type(i.x), type(i.y))"
   ]
  },
  {
   "cell_type": "markdown",
   "metadata": {},
   "source": [
    "메타클래스를 사용해 싱글톤 패턴 구현한 예제"
   ]
  },
  {
   "cell_type": "code",
   "execution_count": 38,
   "metadata": {},
   "outputs": [
    {
     "name": "stdout",
     "output_type": "stream",
     "text": [
      "<__main__.Logger object at 0x10e289b00> <__main__.Logger object at 0x10e289b00> <__main__.Logger2 object at 0x10e289be0>\n"
     ]
    },
    {
     "data": {
      "text/plain": [
       "{__main__.Logger: <__main__.Logger at 0x10e289b00>,\n",
       " __main__.Logger2: <__main__.Logger2 at 0x10e289be0>}"
      ]
     },
     "execution_count": 38,
     "metadata": {},
     "output_type": "execute_result"
    }
   ],
   "source": [
    "class MetaSingleton(type):\n",
    "    _instance = {}\n",
    "    def __call__(cls, *args, **kwargs):\n",
    "        if cls not in cls._instance:\n",
    "            cls._instance[cls] =super(MetaSingleton, cls).__call__(*args, **kwargs)\n",
    "        return cls._instance[cls]\n",
    "\n",
    "class Logger(metaclass=MetaSingleton):\n",
    "    pass\n",
    "\n",
    "class Logger2(metaclass=MetaSingleton):\n",
    "    pass\n",
    "\n",
    "logger1 = Logger()\n",
    "logger2 = Logger()\n",
    "logger3 = Logger2()\n",
    "\n",
    "print(logger1, logger2, logger3)\n",
    "MetaSingleton._instance"
   ]
  },
  {
   "cell_type": "markdown",
   "metadata": {},
   "source": [
    "## 싱글톤 패턴 사용 사례\n",
    "\n",
    "### 여러 서비스가 하나의 데이터베이스를 공유하는 구조\n",
    "\n",
    "단일 웹 앱 형태가 아닌 여러 웹 앱이 같은 DB에 접속하는 상황에서는 싱글톤이 적합하지 않다. DB 동기화가 어렵고 리소스 사용량이 많은 경우다. 싱글톤 패턴보다 연결 풀링 기법을 사용해야 효과적이다.\n",
    "\n",
    "### 인프라 상태를 확인하는 서비스\n",
    "\n",
    "## 싱글톤 패턴의 단점\n",
    "\n",
    "* 전역 변수의 값이 실수로 변경된 것을 모르고 애플리케이션에서 사용될 수 있다.\n",
    "* 같은 객체에 대한 여러 참조자가 생길 수 있따.\n",
    "* 전역 변수에 종속적인 모든 클래스 간 상호관계가 복잡해진다. \n"
   ]
  }
 ],
 "metadata": {
  "kernelspec": {
   "display_name": "Python 3",
   "language": "python",
   "name": "python3"
  },
  "language_info": {
   "codemirror_mode": {
    "name": "ipython",
    "version": 3
   },
   "file_extension": ".py",
   "mimetype": "text/x-python",
   "name": "python",
   "nbconvert_exporter": "python",
   "pygments_lexer": "ipython3",
   "version": "3.7.3"
  }
 },
 "nbformat": 4,
 "nbformat_minor": 2
}
