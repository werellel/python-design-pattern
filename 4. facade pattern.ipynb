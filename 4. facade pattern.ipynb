{
 "cells": [
  {
   "cell_type": "markdown",
   "metadata": {},
   "source": [
    "## 퍼사드 디자인 패턴 개요\n",
    "\n",
    "복잡한 내부 시스템 로직을 감추고 클라이언트가 쉽게 시스템에 접근할 수 있는 인터페이스를 제공\n",
    "\n",
    "컴퓨터의 구조를 전혀 모르는 사용자도 유저인터페이스를 통해 컴퓨터 자원을 사용한다. 사용자는 유저인터페이스라는 인터페이스를 통해 목적을 달성한다.\n",
    "\n",
    "퍼사드 디자인 패턴의 목적\n",
    "\n",
    "* 서브시스템의 인터페이스를 통합시킨 단일 인터페이스를 제공해 클라이언트가 쉽게 서브시스템에 접근할 수 있게 한다.\n",
    "* 단일 인터페이스 객체로 복잡한 서브시스템을 대체한다. 서브시스템을 캡슐화하는 것이 아니라 모든 서브시스템을 결합한다.\n",
    "* 클라이언트와 내부 구현을 분리한다.\n",
    "\n",
    "* 퍼사드: 외부에서 보기에 깔끔하도록 복잡한 서브 시스템을 감싸는 역할을 한다.\n",
    "* 시스템: 전체 시스템을 하나의 복잡한 복합체로 만드는 여러 서브시스템의 집합니다.\n",
    "* 클라이언트: 퍼사드를 통해 서브시스템과 통신한다. 복잡한 시스템 구조에 대해 전혀 알 필요가 없다.\n",
    "\n",
    "### 퍼사드\n",
    "\n",
    "* 어떤 서브시스템이 요청에 알맞는지 알고 있는 이터페이스\n",
    "* 컴포지션을 통해 클라이언트의 요청을 적합한 서브시스템 객체에 전달\n",
    "\n",
    "### 시스템\n",
    "\n",
    "* 서브시스템의 기능을 구현하는 클래스. 이상적으로 시스템은 각기 다른 역할을 하는 클래스의 집합\n",
    "* 퍼사드 객체가 지시한 일을 담당하지만 퍼사드의 존재도 모르며 참조하지도 않는다.\n",
    "\n",
    "### 클라이언트\n",
    "\n",
    "* 클라이언트는 퍼사드를 인스턴스화하는 클래스\n",
    "* 퍼사드에 서브시스템을 통해 작업을 수행하도록 요청\n",
    "\n",
    "## 퍼사드 패턴 구현\n",
    "\n",
    "결혼을 하기 위해 드레스, 메이크업, 식장, 축가 등 많은 것을 직접 예약해야 한다. 이 모든 과정을 직접해야 하지만 웨딩플래너만 있으면 최적의 계획을 찾아준다.\n",
    "\n",
    "* 클라이언트: 결혼식 전까지 모든 준비를 마쳐야 하는 사람\n",
    "* 퍼사드: 웨딩플래너 \n",
    "* 서브시스템: 결혼과 관련된 업체들"
   ]
  },
  {
   "cell_type": "code",
   "execution_count": 4,
   "metadata": {},
   "outputs": [],
   "source": [
    "class EventManager(object):\n",
    "    def __init__(self):\n",
    "        print(\"Event Manager:: Let me talk to the folks\")\n",
    "    \n",
    "    def arrange(self):\n",
    "        self.hotelier = Hotelier()\n",
    "        self.hotelier.bookHotel()\n",
    "        \n",
    "        self.florist = Florist()\n",
    "        self.florist.setFlowerRequirements()\n",
    "        \n",
    "        self.caterer = Caterer()\n",
    "        self.caterer.setCuisine()\n",
    "        \n",
    "        self.musician = Musician()\n",
    "        self.musician.setMusicType()"
   ]
  },
  {
   "cell_type": "markdown",
   "metadata": {},
   "source": [
    "서브시스템 구현"
   ]
  },
  {
   "cell_type": "code",
   "execution_count": 5,
   "metadata": {},
   "outputs": [
    {
     "name": "stdout",
     "output_type": "stream",
     "text": [
      "결혼 하자!\n",
      "웨딩플래너에게 연락을 해보자.\n",
      "Event Manager:: Let me talk to the folks\n",
      "Arraning the Hotel for Marriage? --\n",
      "주어진 날짜에 호텔에 예약이 될까요?\n",
      "예약 완료.\n",
      "이벤트를 위한 꽃 장식?\n",
      "장미, 개나리, 카네이션이 사용된다.\n",
      "이벤트를 위한 음식 조율\n",
      "중식 요리사 배치\n",
      "결혼을 위한 음악 조율\n",
      "재즈랑 클래식 연주\n"
     ]
    }
   ],
   "source": [
    "class Hotelier():\n",
    "    def __init__(self):\n",
    "        print(\"Arraning the Hotel for Marriage? --\")\n",
    "    \n",
    "    def __isAvailable(self):\n",
    "        print(\"주어진 날짜에 호텔에 예약이 될까요?\")\n",
    "        return True\n",
    "    \n",
    "    def bookHotel(self):\n",
    "        if self.__isAvailable():\n",
    "            print(\"예약 완료.\")\n",
    "\n",
    "class Florist(object):\n",
    "    def __init__(self):\n",
    "        print(\"이벤트를 위한 꽃 장식?\")\n",
    "        \n",
    "    def setFlowerRequirements(self):\n",
    "        print(\"장미, 개나리, 카네이션이 사용된다.\")\n",
    "        \n",
    "class Caterer(object):\n",
    "    def __init__(self):\n",
    "        print(\"이벤트를 위한 음식 조율\")\n",
    "        \n",
    "    def setCuisine(self):\n",
    "        print(\"중식 요리사 배치\")\n",
    "        \n",
    "class Musician(object):\n",
    "    def __init__(self):\n",
    "        print(\"결혼을 위한 음악 조율\")\n",
    "    \n",
    "    def setMusicType(self):\n",
    "        print(\"재즈랑 클래식 연주\")\n",
    "        \n",
    "class You(object):\n",
    "    def __init__(self):\n",
    "        print(\"결혼 하자!\")\n",
    "    \n",
    "    def askEventManager(self):\n",
    "        print(\"웨딩플래너에게 연락을 해보자.\")\n",
    "        em = EventManager()\n",
    "        em.arrange()\n",
    "    def __del__(self):\n",
    "        print(\"모든 준비 완료! 웨딩플래너에게 감사!\")\n",
    "\n",
    "you = You()\n",
    "you.askEventManager()"
   ]
  },
  {
   "cell_type": "markdown",
   "metadata": {},
   "source": [
    "## 최소 지식 원칙\n",
    "\n",
    "퍼사드 패턴은 최소 지식 원칙을 기반으로 한다.\n",
    "\n",
    "* 시스템을 설계할 때 생성하는 모든 객체가 몇 개의 클래스와 연관되며 어떤식으로 대화하는지 알아야 한다.\n",
    "* 원칙에 따라 지나치게 서로 얽혀있는 클래스를 만드는 것을 지양해야 한다.\n",
    "* 클래스 간의 의존도가 높아질수록 시스템 유지보수가 힘들어진다. 시스템의 한 부분을 수정하면 다른 부분이 의도치 않게 변경될 수 있다. 이런 회귀적인 구조는 피해야 한다."
   ]
  }
 ],
 "metadata": {
  "kernelspec": {
   "display_name": "Python 3",
   "language": "python",
   "name": "python3"
  },
  "language_info": {
   "codemirror_mode": {
    "name": "ipython",
    "version": 3
   },
   "file_extension": ".py",
   "mimetype": "text/x-python",
   "name": "python",
   "nbconvert_exporter": "python",
   "pygments_lexer": "ipython3",
   "version": "3.7.3"
  }
 },
 "nbformat": 4,
 "nbformat_minor": 2
}
