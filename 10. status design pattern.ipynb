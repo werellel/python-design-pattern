{
 "cells": [
  {
   "cell_type": "markdown",
   "metadata": {},
   "source": [
    "커맨드와 템플릿 디자인 패턴과 마찬가지로 상태 패턴도 행위 패턴의 한 종류다. \n",
    "\n",
    "## 상태 디자인 패턴 개요\n",
    "\n",
    "행위 디자인 패턴은 객체의 역할에 중점을 둔다. 객체는 상호 작용을 통해 더 큰 기능을 구현한다. 상태 디자인 패턴은 행위 디자인 패턴의 한 종류이며 상태를 나타내는 객체 패턴이라고 부른다. 객체는 내부 상태에 따라 여러 행위를 캡슐화한다. 상태 패턴은 런타임에 객체의 행위를 변경한다.\n",
    "\n",
    "상태 패턴은 상황에 따라 객체의 행동 방식을 변경한다. 사용자에게는 마치 객체의 클래스가 바뀐 것 같이 보여진다. 상태 패턴은 유한 상태 머신을 개발하거나 트랜잭션을 구현할 때 적합하다.\n",
    "\n",
    "### 상태 디자인 패턴 이해\n",
    "\n",
    "* Status: 객체의 행위를 캡슐화하는 인터페이스. 행위는 객체의 상태에 따라 변한다.\n",
    "* ConcreteStatus: Status 인터페이스를 구현하는 서브클래스. 특정 상태의 객체의 행위를 구현\n",
    "* Context: 사용자가 선택한 인터페이스를 정의. 특정 상태의 객ㅊ를 구현한 ConcreteState 서브클래스의 인스턴스를 가지고 있다."
   ]
  },
  {
   "cell_type": "code",
   "execution_count": 2,
   "metadata": {},
   "outputs": [
    {
     "name": "stdout",
     "output_type": "stream",
     "text": [
      "A\n"
     ]
    }
   ],
   "source": [
    "from abc import abstractmethod, ABCMeta\n",
    "\n",
    "class State(metaclass=ABCMeta):\n",
    "    \n",
    "    @abstractmethod\n",
    "    def Handle(self):\n",
    "        pass\n",
    "\n",
    "class ConcreteStateB(State):\n",
    "    def Handle(self):\n",
    "        print(\"B\")\n",
    "\n",
    "class ConcreteStateA(State):\n",
    "    def Handle(self):\n",
    "        print('A')\n",
    "\n",
    "class Context(State):\n",
    "    def __init__(self):\n",
    "        self.state = None\n",
    "    \n",
    "    def getState(self):\n",
    "        return self.state\n",
    "    \n",
    "    def setState(self, state):\n",
    "        self.state = state\n",
    "    \n",
    "    def Handle(self):\n",
    "        self.state.Handle()\n",
    "    \n",
    "context = Context()\n",
    "stateA = ConcreteStateA()\n",
    "stateB = ConcreteStateB()\n",
    "\n",
    "context.setState(stateA)\n",
    "context.Handle()"
   ]
  },
  {
   "cell_type": "markdown",
   "metadata": {},
   "source": [
    "## 상태 디자인 패턴 예제\n",
    "\n",
    "TV 리모컨"
   ]
  },
  {
   "cell_type": "code",
   "execution_count": 3,
   "metadata": {},
   "outputs": [
    {
     "name": "stdout",
     "output_type": "stream",
     "text": [
      "Off\n"
     ]
    }
   ],
   "source": [
    "from abc import abstractmethod, ABCMeta\n",
    "\n",
    "class State(metaclass=ABCMeta):\n",
    "    \n",
    "    @abstractmethod\n",
    "    def doThis(self):\n",
    "        pass\n",
    "\n",
    "class StartState(State):\n",
    "    def doThis(self):\n",
    "        print(\"On\")\n",
    "        \n",
    "class StopState(State):\n",
    "    def doThis(self):\n",
    "        print(\"Off\")\n",
    "    \n",
    "class TVContext(State):\n",
    "    def __init__(self):\n",
    "        self.state= None\n",
    "    \n",
    "    def getState(self):\n",
    "        return self.state\n",
    "    \n",
    "    def setState(self, state):\n",
    "        self.state = state\n",
    "    \n",
    "    def doThis(self):\n",
    "        self.state.doThis()\n",
    "    \n",
    "context = TVContext()\n",
    "context.getState()\n",
    "\n",
    "start = StartState()\n",
    "stop = StopState()\n",
    "\n",
    "context.setState(stop)\n",
    "context.doThis()"
   ]
  },
  {
   "cell_type": "code",
   "execution_count": 8,
   "metadata": {},
   "outputs": [],
   "source": [
    "class ComputerState(object):\n",
    "    name = \"state\"\n",
    "    allowed = []\n",
    "    \n",
    "    def switch(self, state):\n",
    "        if state.name in self.allowed:\n",
    "            print(\"Current\", self)\n",
    "            self.__class__ = state\n",
    "            \n",
    "        else:\n",
    "            print(\"Current\", self)\n",
    "    \n",
    "    def __str__(self):\n",
    "        return self.name"
   ]
  },
  {
   "cell_type": "code",
   "execution_count": 9,
   "metadata": {},
   "outputs": [],
   "source": [
    "class Off(ComputerState):\n",
    "    name = \"off\"\n",
    "    allowed = ['on']\n",
    "    \n",
    "class On(ComputerState):\n",
    "    name = \"on\"\n",
    "    allowed = ['off', 'suspend', 'hibernate']\n",
    "    \n",
    "class Suspend(ComputerState):\n",
    "    name = 'suspend'\n",
    "    allowed = ['on']\n",
    "    \n",
    "class Hibernate(ComputerState):\n",
    "    name = \"hibernate\"\n",
    "    allowed = ['on']"
   ]
  },
  {
   "cell_type": "code",
   "execution_count": 10,
   "metadata": {},
   "outputs": [],
   "source": [
    "class Computer(object):\n",
    "    def __init__(self, model='HP'):\n",
    "        self.model = model\n",
    "        self.state = Off()\n",
    "        \n",
    "    def change(self, state):\n",
    "        self.state.switch(state)"
   ]
  },
  {
   "cell_type": "code",
   "execution_count": 11,
   "metadata": {},
   "outputs": [
    {
     "name": "stdout",
     "output_type": "stream",
     "text": [
      "Current off\n",
      "Current on\n",
      "Current off\n",
      "Current on\n",
      "Current suspend\n",
      "Current suspend\n",
      "Current on\n"
     ]
    }
   ],
   "source": [
    "comp = Computer()\n",
    "comp.change(On)\n",
    "comp.change(Off)\n",
    "\n",
    "comp.change(On)\n",
    "comp.change(Suspend)\n",
    "comp.change(Hibernate)\n",
    "comp.change(On)\n",
    "comp.change(Off)"
   ]
  },
  {
   "cell_type": "markdown",
   "metadata": {},
   "source": [
    "## 상태 디자인 패턴의 장단점\n",
    "\n",
    "장점\n",
    "* 상태 패턴에서 객체의 행위는 해당 상태의 실행 함수의 결과 값과 같다. 행위는 상태에 따라 런타임에 변경된다. 이런 구조는 if/else와 switch/case 등의 조건부 연산자를 줄일 수 있다.\n",
    "\n",
    "* 다형성 구현이 쉬우며 새로운 상태를 쉽게 추가할 수 있다.\n",
    "\n",
    "* 상태 관련 행위가 모두 ConcreteState 클래스에 있으므로 응집도가 높아진다.\n",
    "\n",
    "* 새로운 ConcreteState 클래스를 추가해 쉽게 신규 기능을 구현할 수 있다. 코드의 유연성이 높아지고 유지보수가 쉽다.\n",
    "\n",
    "단점\n",
    "\n",
    "* 클래스 남발이 나타난다. 모든 상태를 ConcreteState 클래스로 저으이하면 쓸데없는 클래스가 많아진다. 유한 상태 기계를 보면 다수의 비슷한 상태들이 있지만 모두 개별적인 ConcreteState 클래스로 정의한다. 코드의 양이 늘어나고 전체 구조를 파악하기가 어렵다.\n",
    "\n",
    "* 새로운 행위 ConcreteState를 새로 추가하면 되지만 Context 클래스도 맞게 수정해야 한다. Context는 행위가 추가될 떄마다 취약해진다."
   ]
  }
 ],
 "metadata": {
  "kernelspec": {
   "display_name": "Python 3",
   "language": "python",
   "name": "python3"
  },
  "language_info": {
   "codemirror_mode": {
    "name": "ipython",
    "version": 3
   },
   "file_extension": ".py",
   "mimetype": "text/x-python",
   "name": "python",
   "nbconvert_exporter": "python",
   "pygments_lexer": "ipython3",
   "version": "3.7.3"
  }
 },
 "nbformat": 4,
 "nbformat_minor": 2
}
