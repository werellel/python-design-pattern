{
 "cells": [
  {
   "cell_type": "markdown",
   "metadata": {},
   "source": [
    "## 컴파운드 패턴 개요\n",
    "\n",
    "컴파운드 패턴은 2개 이상의 패턴을 합쳐 문제를 해결한다. 하지만 컴파운드 패턴은 단순히 여러 패턴의 조합이 아닌 문제를 해결하는 독립적인 솔루션이다.\n",
    "\n",
    "## 모델-뷰-컨트롤러 패턴\n",
    "\n",
    "MVC 패턴은 유저 인터페이스를 구현할 수 있는 유지보수가 용이한 디자인 패턴이다. MVC 패턴은 애플리케이션을 모델과 뷰, 컨트롤러로 나눠 구성한다. 각 파트는 맞물려 있으며 요청의 처리와 표현을 분리한다.\n",
    "\n",
    "모델은 데이터와 비즈니스 로직(정보 저방 및 쿼리로직)을 처리하고 뷰는 데이터의 시각적 표현을 담당하며 컨트롤러는 사용자의 요청에 따라 모델과 뷰 사이에서 요청을 처리한다. 뷰와 컨트롤러는 모델에 의존하지만 그 반대는 아니다. 사용자가 데이터를 직접 요청하는 구조이기 때문이다. 모델의 독립성이 MVC 패턴의 중요한 부분이다."
   ]
  },
  {
   "cell_type": "code",
   "execution_count": 1,
   "metadata": {},
   "outputs": [
    {
     "name": "stdout",
     "output_type": "stream",
     "text": [
      "Services Provided:\n",
      "email  \n",
      "sms  \n",
      "voice  \n",
      "Pricing  for Services\n",
      "For 1000 email message you pay $ 2\n",
      "For 1000 sms message you pay $ 10\n",
      "For 1000 voice message you pay $ 15\n"
     ]
    }
   ],
   "source": [
    "class Model(object):\n",
    "    services = {\n",
    "        'email': {'number': 1000, 'price': 2,},\n",
    "        'sms' : {'number': 1000, 'price': 10, },\n",
    "        'voice': {'number': 1000, 'price': 15}\n",
    "    }\n",
    "    \n",
    "class View(object):\n",
    "    def list_services(self, services):\n",
    "        for svc in services:\n",
    "            print(svc, ' ')\n",
    "    \n",
    "    def list_pricing(self, services):\n",
    "        for svc in services:\n",
    "            print(\"For\", Model.services[svc]['number'],\n",
    "                     svc, 'message you pay $',\n",
    "                     Model.services[svc]['price'])\n",
    "            \n",
    "class Controller(object):\n",
    "    def __init__(self):\n",
    "        self.model = Model()\n",
    "        self.view = View()\n",
    "        \n",
    "    def get_services(self):\n",
    "        services = self.model.services.keys()\n",
    "        return(self.view.list_services(services))\n",
    "    \n",
    "    def get_priciing(self):\n",
    "        services = self.model.services.keys()\n",
    "        return(self.view.list_pricing(services))\n",
    "    \n",
    "class Client(object):\n",
    "    controller = Controller()\n",
    "    print(\"Services Provided:\")\n",
    "    controller.get_services()\n",
    "    print(\"Pricing  for Services\")\n",
    "    controller.get_priciing()"
   ]
  },
  {
   "cell_type": "markdown",
   "metadata": {},
   "source": [
    "## MVC 패턴 사용 사례\n",
    "\n",
    "개발에서 자주 사용되는 많은 웹 애플리케이션 프레임워크가 MVC를 기반으로 한다.\n",
    "\n",
    "토네이도 웹 애플맄에시녀 프레임워크를 사용해 단일 페이지 애플리케이션을 구현해본다. 사용자가 권한에 따라 일정을 생성, 수정, 삭제할 수 있는 일정 관리 프로그램을 작성한다.\n",
    "\n",
    "* 컨트롤러부터 시작하자. 토네이도에서 컨트롤러는 뷰 또는 애플리케이션 라우팅에 해당된다. 일정 목록과 일정 생성, 종료, 에러 표시 등 여러 뷰가 필요하다.\n",
    "* 모델은 일정을 조회와 생성, 삭제하는 데이터베이스 작업을 담당한다.\n",
    "* 마지막으로 토네이도에서 뷰는 템플릿으로 표현된다. 일정을 조회와 생성, 삭제하는 템플릿과 잘못된 URL을 알리는 템플릿이 필요하다."
   ]
  },
  {
   "cell_type": "code",
   "execution_count": 3,
   "metadata": {},
   "outputs": [
    {
     "name": "stdout",
     "output_type": "stream",
     "text": [
      "Requirement already satisfied: tornado in /Users/hogeunryu/anaconda3/lib/python3.7/site-packages (6.0.2)\n",
      "Note: you may need to restart the kernel to use updated packages.\n"
     ]
    }
   ],
   "source": [
    "pip install tornado"
   ]
  },
  {
   "cell_type": "code",
   "execution_count": 4,
   "metadata": {},
   "outputs": [
    {
     "name": "stdout",
     "output_type": "stream",
     "text": [
      "Collecting db-sqlite3\n",
      "  Downloading https://files.pythonhosted.org/packages/ff/00/e1f3d7bf1e0bff7c0574c0d5535c041e139d4ce43db196147e4c62f52ed5/db-sqlite3-0.0.1.tar.gz\n",
      "Collecting db (from db-sqlite3)\n",
      "  Downloading https://files.pythonhosted.org/packages/a9/22/f65d64c83e63790b3273c6adb3bff338ad594f46d84b41bd1f94593b40a6/db-0.1.1.tar.gz\n",
      "Collecting antiorm (from db->db-sqlite3)\n",
      "\u001b[?25l  Downloading https://files.pythonhosted.org/packages/0b/f8/71baa4824d9666c1be51d117119579a97f461ddbded48b2e01a6ad0554b5/antiorm-1.2.1.tar.gz (171kB)\n",
      "\u001b[K    100% |████████████████████████████████| 174kB 1.8MB/s ta 0:00:01\n",
      "\u001b[?25hBuilding wheels for collected packages: db-sqlite3, db, antiorm\n",
      "  Building wheel for db-sqlite3 (setup.py) ... \u001b[?25ldone\n",
      "\u001b[?25h  Stored in directory: /Users/hogeunryu/Library/Caches/pip/wheels/e0/f8/cb/08e3a3a63bdea9ac3a0cccd140636b6cf94e3fb7df1070b12e\n",
      "  Building wheel for db (setup.py) ... \u001b[?25ldone\n",
      "\u001b[?25h  Stored in directory: /Users/hogeunryu/Library/Caches/pip/wheels/30/eb/ba/237fa002d1d1b2e73cedcefd26a9db37c4b72c7e5156ea0501\n",
      "  Building wheel for antiorm (setup.py) ... \u001b[?25ldone\n",
      "\u001b[?25h  Stored in directory: /Users/hogeunryu/Library/Caches/pip/wheels/b0/91/4d/f8fe808786ff1cda9e7e99e1b1bbda9196ab26786017965313\n",
      "Successfully built db-sqlite3 db antiorm\n",
      "Installing collected packages: antiorm, db, db-sqlite3\n",
      "Successfully installed antiorm-1.2.1 db-0.1.1 db-sqlite3-0.0.1\n",
      "Note: you may need to restart the kernel to use updated packages.\n"
     ]
    }
   ],
   "source": [
    "pip install db-sqlite3"
   ]
  },
  {
   "cell_type": "code",
   "execution_count": 5,
   "metadata": {},
   "outputs": [],
   "source": [
    "import tornado\n",
    "import tornado.web\n",
    "import tornado.ioloop\n",
    "import tornado.httpserver\n",
    "import sqlite3"
   ]
  },
  {
   "cell_type": "code",
   "execution_count": 6,
   "metadata": {},
   "outputs": [],
   "source": [
    "class IndexHandler(tornado.web.RequestHandler):\n",
    "    def get(self):\n",
    "        query = \"select * from task\"\n",
    "        todos = _execute(query)\n",
    "        self.render('index.html', todos=todos)\n",
    "    \n",
    "class NewHandler(tornado.web.RequestHandler):\n",
    "    def post(self):\n",
    "        name = self.get_argument('name', None)\n",
    "        query = \"create table if not exists tast (id INTEGER PRIMARY KEY, name TEXT, status NUMERIC)\"\n",
    "        _execute(query)\n",
    "        query = \"insert into task (name, status) values ('%s', %d) \" %(name, 1)\n",
    "        _execute(query)\n",
    "        self.redirect('/')\n",
    "        \n",
    "    def get(self):\n",
    "        self.render('new.html')\n",
    "        \n",
    "class UpdateHandler(tornado.web.RedirectHandler):\n",
    "    def get(self, id, status):\n",
    "        query = \"update task set status=%d where id=%s \" %(int(status), id)\n",
    "        _execute(query)\n",
    "        self.redirect('/')\n",
    "        \n",
    "class DeleteHandler(tornado.web.RequestHandler):\n",
    "    def get(self, id):\n",
    "        query = \"delete from task where id=%s\" % id\n",
    "        _execute(query)\n",
    "        self.redirect('/')"
   ]
  },
  {
   "cell_type": "code",
   "execution_count": 7,
   "metadata": {},
   "outputs": [],
   "source": [
    "class RunApp(tornado.web.Application):\n",
    "    def __init__(self):\n",
    "        Handler = [\n",
    "            (r'/', IndexHandler),\n",
    "            (r'/todo/new', NewHandler),\n",
    "            (r'/todo/update/(\\d+)/status/(\\d+)', UpdateHandler),\n",
    "            (r'/todo/delete/(\\d+)', DeleteHandler),\n",
    "        ]\n",
    "        \n",
    "        settings = dict(\n",
    "            debug=True,\n",
    "            template_path='templates',\n",
    "            static_path=\"static\"\n",
    "        )\n",
    "        \n",
    "        tornado.web.Application.__init__(self, Handler, **settings)"
   ]
  },
  {
   "cell_type": "code",
   "execution_count": 9,
   "metadata": {},
   "outputs": [],
   "source": [
    "http_server = tornado.httpserver.HTTPServer(RunApp())\n",
    "http_server.listen(5000)\n",
    "tornado.ioloop.IOLoop.instance().start()"
   ]
  },
  {
   "cell_type": "markdown",
   "metadata": {},
   "source": [
    "## MVC 패턴의 장점\n",
    "\n",
    "* 애플리케이션의 모델과 뷰, 컨트롤러 총 3개의 파트로 나눌 수 있다. 이 구조는 유지보수가 쉽고 요소 간의 독립성이 높아져 복잡성이 줄어든다.\n",
    "* 백엔드 로직을 거의 건드리지 않고 독립적으로 프론트엔드를 수정할 수 있다.\n",
    "* 모델이나 비즈니스 로직도 마찬가지로 뷰와 상관없이 수정될 수 있다.\n",
    "* 컨트롤러 또한 뷰와 모델과는 독립적으로 수정될 수 있다.\n",
    "* 플랫폼 개발자와 UI 개발자 같이 특정 분야의 전문가들이 독립적으로 일할 수 있는 환경을 제공한다.\n",
    "\n",
    "MVC는 웹사이트만 아니라 블로그나 영화 데이터베이스 앱, 비디오 스트리밍 앱 등 프로그램 내 요소 간의 높은 독립성을 요구하는 경우에 적합하다. "
   ]
  }
 ],
 "metadata": {
  "kernelspec": {
   "display_name": "Python 3",
   "language": "python",
   "name": "python3"
  },
  "language_info": {
   "codemirror_mode": {
    "name": "ipython",
    "version": 3
   },
   "file_extension": ".py",
   "mimetype": "text/x-python",
   "name": "python",
   "nbconvert_exporter": "python",
   "pygments_lexer": "ipython3",
   "version": "3.7.3"
  }
 },
 "nbformat": 4,
 "nbformat_minor": 2
}
