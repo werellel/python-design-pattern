{
 "cells": [
  {
   "cell_type": "markdown",
   "metadata": {},
   "source": [
    "## 행위 패턴 개요\n",
    "\n",
    "행위 패턴은 이름 그대로 객체의 역할에 초점을 둔다. 더 큰 기능을 구현하기 위한 객체 간의 상호 작용을 중요시한다. 행동 패턴에서 객체는 상호작용하지만 느슨하게 결합돼 있다. \n",
    "\n",
    "## 옵서버 패턴 이해\n",
    "\n",
    "옵서버 패턴에서 객체(서브젝트)는 자식(옵서버)의 목록을 유지하며 서브젝트가 옵서버에 정의된 메소드를 호출할 때마다 옵서버에 이를 알린다. 분산형 애플리케이션에는 사용자가 요청한 작업을 수행하는 다수의 서비스가 엮여있다. 각 서비스가 수행하는 다양한 연산은 객체 상태에 직접적인 영향을 받는다.\n",
    "\n",
    "브로드캐스트나 게시/구독(pub/sub) 시스템에서 옵서버 디자인 패턴이 자주 사용된다. 블로그를 예로 들면, 특정 블로그를 구독하고 새로운 글이 추가됐을 때 알람을 받는 경우가 있을 때 이 상황을 옵서버 패턴으로 구현한다면 블로그는 구독자 또는 옵서버의 목록을 유지하는 서브젝트다. 블로그에 새로운 글이 등록되면 이메일 또는 각 옵서버가 선택한 방식으로 알림을 보낸다.\n",
    "\n",
    "옵서버 패턴의 목적은 다음과 같다.\n",
    "\n",
    "* 객체 간 일대다 관계를 형성하고 객체의 상태를 다른 종속 객체에 자동으로 알린다.\n",
    "* 서브젝트의 핵심 부분을 캡슐화한다.\n",
    "\n",
    "옵서버 패턴은 다음과 같은 상황에 적합하다.\n",
    "\n",
    "* 분산 시스템의 이벤트 서비스를 구현할 때\n",
    "* 뉴스 에이전시 프레임워크\n",
    "* 주식 시장 모델\n",
    "\n",
    "파이썬으로 구현한 옵서버 디자인 패턴"
   ]
  },
  {
   "cell_type": "code",
   "execution_count": 1,
   "metadata": {},
   "outputs": [
    {
     "name": "stdout",
     "output_type": "stream",
     "text": [
      "Observer1 :: Got ('notification',) From <__main__.Subject object at 0x10544ec18>\n",
      "Observer2 :: Got ('notification',) From <__main__.Subject object at 0x10544ec18>\n"
     ]
    }
   ],
   "source": [
    "class Subject:\n",
    "    def __init__(self):\n",
    "        self.__observers = []\n",
    "    \n",
    "    def register(self, observer):\n",
    "        self.__observers.append(observer)\n",
    "        \n",
    "    def notifyAll(self, *args, **kwargs):\n",
    "        for observer in self.__observers:\n",
    "            observer.notify(self, *args, **kwargs)\n",
    "\n",
    "class Observer1:\n",
    "    def __init__(self, subject):\n",
    "        subject.register(self)\n",
    "    \n",
    "    def notify(self, subject, *args):\n",
    "        print(type(self).__name__,':: Got', args, 'From', subject)\n",
    "\n",
    "\n",
    "class Observer2:\n",
    "    def __init__(self, subject):\n",
    "        subject.register(self)\n",
    "    \n",
    "    def notify(self, subject, *args):\n",
    "        print(type(self).__name__,':: Got', args, 'From', subject)\n",
    "\n",
    "subject = Subject()\n",
    "observer1 = Observer1(subject)\n",
    "observer2 = Observer2(subject)\n",
    "subject.notifyAll('notification')"
   ]
  },
  {
   "cell_type": "markdown",
   "metadata": {},
   "source": [
    "옵서버 패턴의 구성원의 각 역할은 다음과 같다.\n",
    "\n",
    "* 서브젝트: Subject는 Observer를 관리한다. Observer는 Subject 클래스의 register()와 deregister() 메소드를 호출해 자신을 등록한다.\n",
    "* 옵서버: 서브젝트를 감시하는 객체를 위한 인터페이스를 제공한다.\n",
    "* ConcreteObserver: Subject의 상태를 저장한다. 서브젝트에 대한 정보와 실제 상태를 일관되게 유지하기 위해 Observer 인터페이스를 구현한다.\n",
    "\n",
    "ConcreteObserver는 Observer 인터페이스를 구현해 자신을 Subject에 등록한다. 상태 변화가 있을 때마다 Subject는 Observer의 알림 메소드를 통해 모든 ConcreteObserver에 알린다.\n",
    "\n",
    "## 옵서버 패턴 사용 사례\n"
   ]
  },
  {
   "cell_type": "markdown",
   "metadata": {},
   "source": [
    "뉴스 에이전시는 일반적으로 여러 곳에서 뉴스를 모아 구독자에게 전달한다. 이 경우의 디자인 요소를 생각해보자.\n",
    "\n",
    "뉴스 게시자인 서브젝트부터 구현한다.\n",
    "\n",
    "* 서브젝트의 행동은 NewsPublisher 클래스에 구현한다.\n",
    "* NewsPublisher는 구독자가 구현할 인터페이스를 제공한다.\n",
    "* Observer는 attach 메소드를 통해 자신을 NewsPublisher에 등록하고 detach 메소드로 등록을 취소한다.\n",
    "* subscrobers는 Subject에 등록된 구독자 목록을 반환한다.\n",
    "* notifySubcriber는 NewsPublisher에 등록된 모든 구독자에게 알림을 보낸다.\n",
    "* 뉴스 게시자는 addNews() 메소드로 새로운 뉴스를 등록하고 getNews()로 최신 뉴스를 확인한 뒤 Observer에 전달한다.\n",
    "\n",
    "NewsPublisher"
   ]
  },
  {
   "cell_type": "code",
   "execution_count": 2,
   "metadata": {},
   "outputs": [],
   "source": [
    "class NewsPublisher:\n",
    "    def __init__(self):\n",
    "        self.__subscribers = []\n",
    "        self.__latestNews = None\n",
    "    \n",
    "    def attach(self, subscriber):\n",
    "        self.__subscribers.append(subscriber)\n",
    "    \n",
    "    def detach(self):\n",
    "        return self.__subscribers.pop()\n",
    "    \n",
    "    def subscribers(self):\n",
    "        return [type(x).__name__ for x in self.__subscribers]\n",
    "    \n",
    "    def notifySubscribers(self):\n",
    "        for sub in self.__subscribers:\n",
    "            sub.update()\n",
    "    \n",
    "    def addNews(self, news):\n",
    "        self.__latestNews = news\n",
    "    \n",
    "    def getNews(self):\n",
    "        return \"Got News\", self.__latestNews"
   ]
  },
  {
   "cell_type": "markdown",
   "metadata": {},
   "source": [
    "Observer 인터페이스\n",
    "\n",
    "* Subscriber는 Observer를 나타낸다. 모든 ConcreteObserver의 추상 기본 클래스다.\n",
    "* Subscriber에는 ConcreteObserver가 구현해야 하는 update 메소드가 있다.\n",
    "* ConcreteObserver는 update()를 구현해 Subject(NewsPublisher)로부터 새로운 뉴스 알림을 받는다.\n",
    "\n",
    "Subscriber 추상 클래스 구현"
   ]
  },
  {
   "cell_type": "code",
   "execution_count": 3,
   "metadata": {},
   "outputs": [],
   "source": [
    "from abc import ABCMeta, abstractmethod\n",
    "\n",
    "class Subscriber(metaclass=ABCMeta):\n",
    "    @abstractmethod\n",
    "    def update(self):\n",
    "        pass"
   ]
  },
  {
   "cell_type": "markdown",
   "metadata": {},
   "source": [
    "ConcreteObserver 클래스의 역할\n",
    "\n",
    "* EmailSubscriber와 SMSSubscriber는 Subscriber 인터페이스를 구현하는 옵서버다.\n",
    "* AnyOtherObserver는 Observer와 Subject의 느슨한 관계를 나타내는 또 다른 옵서버다.\n",
    "* 각 ConcreteObserver의 \\__init__() 메소드는 attach 메소드를 통해 자신을 NewsPublisher에 등록\n",
    "* NewsPublisher는 내부적으로 ConcreteObserver의 update() 메소드를 호출해 새로운 뉴스를 알린다.\n",
    "\n",
    "SMSSubscriber 클래스 구현"
   ]
  },
  {
   "cell_type": "code",
   "execution_count": 6,
   "metadata": {},
   "outputs": [],
   "source": [
    "class SMSSubscriber:\n",
    "    def __init__(self, publisher):\n",
    "        self.publisher = publisher\n",
    "        self.publisher.attach(self)\n",
    "    \n",
    "    def update(self):\n",
    "        print(type(self).__name__, self.publisher.getNews())\n",
    "\n",
    "class EmailSubscriber:\n",
    "    def __init__(self, publisher):\n",
    "        self.publisher = publisher\n",
    "        self.publisher.attach(self)\n",
    "    \n",
    "    def update(self):\n",
    "        print(type(self).__name__, self.publisher.getNews())\n",
    "\n",
    "class AnyOtherSubscriber:\n",
    "    def __init__(self, publisher):\n",
    "        self.publisher = publisher\n",
    "        self.publisher.attach(self)\n",
    "    \n",
    "    def update(self):\n",
    "        print(type(self).__name__, self.publisher.getNews())"
   ]
  },
  {
   "cell_type": "code",
   "execution_count": 7,
   "metadata": {},
   "outputs": [
    {
     "name": "stdout",
     "output_type": "stream",
     "text": [
      "\n",
      " Subscriber: ['SMSSubscriber', 'EmailSubscriber', 'AnyOtherSubscriber']\n",
      "SMSSubscriber ('Got News', 'Hello')\n",
      "EmailSubscriber ('Got News', 'Hello')\n",
      "AnyOtherSubscriber ('Got News', 'Hello')\n",
      "\n",
      "Detached:  AnyOtherSubscriber\n",
      "\n",
      "Subscribers: ['SMSSubscriber', 'EmailSubscriber']\n",
      "SMSSubscriber ('Got News', 'Next News')\n",
      "EmailSubscriber ('Got News', 'Next News')\n"
     ]
    }
   ],
   "source": [
    "news_publisher = NewsPublisher()\n",
    "for Subscriber in [SMSSubscriber, EmailSubscriber, AnyOtherSubscriber]:\n",
    "    Subscriber(news_publisher)\n",
    "print(\"\\n Subscriber:\", news_publisher.subscribers())\n",
    "\n",
    "news_publisher.addNews(\"Hello\")\n",
    "news_publisher.notifySubscribers()\n",
    "\n",
    "print(\"\\nDetached: \", type(news_publisher.detach()).__name__)\n",
    "print(\"\\nSubscribers:\", news_publisher.subscribers())\n",
    "\n",
    "news_publisher.addNews(\"Next News\")\n",
    "news_publisher.notifySubscribers()"
   ]
  },
  {
   "cell_type": "markdown",
   "metadata": {},
   "source": [
    "## 옵서버 패턴 메소드\n",
    "\n",
    "Subject의 변경 사항을 Observer에 알리는 방법에는 푸시와 풀 두 가지 모델이 있다.\n",
    "\n",
    "### 풀 모델\n",
    "\n",
    "* Subject는 변경 사항이 있음을 등록된 Observer에 브로드캐스트한다.\n",
    "* Observer는 직접 게시자에게 변경 사항을 요청하고 끌어와야 한다.\n",
    "* 풀 모델은 Subject가 Observer에 알리는 단계와 Observer가 Subject로부터 필요한 데이터를 받아오는 두 단계가 필요하므로 비효율적이다.\n",
    "\n",
    "### 푸시 모델\n",
    "\n",
    "* 풀 모델과 달리 Subject가 Observer에 데이터를 보낸다.\n",
    "* Subject는 Observer가 필요로 하지 않는 데이터까지 보낼 수 있다. 따라서 쓸데없이 많은 양의 데이터를 전송해 응답 시간이 늦어질 수 있다.\n",
    "* 성능을 위해 Subject는 필요한 데이터만 보내야 한다.\n",
    "\n",
    "## 느슨한 결합과 옵서버 패턴\n",
    "\n",
    "느슨한 결합이란 객체가 상호 작용하는 다른 객체에 대해 알고 있는 정도를 의미한다.\n",
    "\n",
    "느슨한 결합을 추구한 설계는 객체 간의 의존도를 줄여 유연한 객체지향 시스템을 만들 수 있다.\n",
    "\n",
    "느슨한 결합의 효과\n",
    "    \n",
    "    * 한 부분에 대한 수정이 얘기치 않게 다른 부분까지 영향을 끼치는 위험을 줄인다.\n",
    "    * 테스트와 유지 보수 및 장애 처리가 쉽다.\n",
    "    * 시스템을 쉽게 여러 부분으로 분리할 수 있다.\n",
    "    \n",
    "옵서버 패턴은 Subject와 Observer의 느슨한 결합을 추구한다.\n",
    "\n",
    "    * Subject는 정확히 Observer가 어떤 인터페이스를 구현하는지 모른다. ConcreteObserver도 모른다.\n",
    "    * 언제든지 새로운 Observer를 추가할 수 있다.\n",
    "    * 새로운 Observer를 추가해도 Subject를 수정할 필요가 없다. \n",
    "    * Subject와 Observer는 독립적이다.\n",
    "\n",
    "## 옵서버 패턴의 장단점\n",
    "\n",
    "장점\n",
    "    \n",
    "    * 객체 간의 느슨한 결합 원칙\n",
    "    * Subject, Observer 클래스 수정없이 객체 간 자유롭게 데이터를 주고받을 수 있다.\n",
    "    * 새로운 Observer를 언제든지 추가/제거할 수 있다.\n",
    "   \n",
    "단점\n",
    "\n",
    "    * ConcreteObserver는 상속을 통해 Observer 인터페이스를 구현한다. 컴포지션에 대한 선택권이 없다.\n",
    "    * 제대로 구현되지 않은 Observer 클래스를 복잡도를 높이고 성능 저하의 원인이 될 수 있다.\n",
    "    * 애플리케이션에서 알림 기능은 간혹 신뢰할 수 없으며 레이스 상태 또는 비일관성을 초래할 수 있다."
   ]
  }
 ],
 "metadata": {
  "kernelspec": {
   "display_name": "Python 3",
   "language": "python",
   "name": "python3"
  },
  "language_info": {
   "codemirror_mode": {
    "name": "ipython",
    "version": 3
   },
   "file_extension": ".py",
   "mimetype": "text/x-python",
   "name": "python",
   "nbconvert_exporter": "python",
   "pygments_lexer": "ipython3",
   "version": "3.7.3"
  }
 },
 "nbformat": 4,
 "nbformat_minor": 2
}
