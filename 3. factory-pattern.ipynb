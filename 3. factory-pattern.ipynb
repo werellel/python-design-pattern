{
 "cells": [
  {
   "cell_type": "markdown",
   "metadata": {},
   "source": [
    "## 팩토리 패턴 개요\n",
    "\n",
    "객체지향 프로그래밍에서 팩토리란 다른 클래스의 객체를 생성하는 클래스를 말한다.\n",
    "클라이언트는 특정 인자와 함께 메소드를 호출하고 팩토리는 해당 객체를 생성하고 반환한다.\n",
    "\n",
    "팩토리가 필요한 이유\n",
    "    * 객체 생성과 클래스 구현을 나눠 상호 의존도를 줄인다.\n",
    "    * 클라이언트는 생성하려는 객체 클래스 구현과 상관없이 사용할 수 있다.객체를 생성할 때 필요한 인터페이스와 메소드, 인자 당의 정보만 있으면 된다.\n",
    "    * 코드를 수정하지 않고 간단하게 팩토리에서 새로운 클래스를 추가할 수 있다. 인자 추가가 전부인 경우도 있다.\n",
    "    * 이미 생성된 객체를 팩토리가 재활용할 수 있다.\n",
    "\n",
    "팩토리 패턴 종류 3가지\n",
    "    * 심플 팩토리 패턴: 인터페이스는 개게 생성 로직을 숨기고 객체를 생성\n",
    "    * 팩토리 메소드 패턴: 인터페이스를 통해 객체를 생성. 서브 클래스가 객체 생성에 필요한 클래스 선택.\n",
    "    * 추상 팩토리 패턴\" 객체 생성에 필요한 클래스를 노출하지 않고 객체를 생성하는 인터페이스\n",
    "\n",
    "### 심플 팩토리 패턴"
   ]
  },
  {
   "cell_type": "code",
   "execution_count": 2,
   "metadata": {},
   "outputs": [
    {
     "name": "stdout",
     "output_type": "stream",
     "text": [
      "Dog, Cat?Cat\n",
      "야옹\n"
     ]
    }
   ],
   "source": [
    "from abc import ABCMeta, abstractmethod\n",
    "\n",
    "# ABCMeta는 파이썬에서 특정 클래스를 Abstract로 선언하는 특수 메타클래스\n",
    "class Animal(metaclass=ABCMeta):\n",
    "    \"\"\"\n",
    "    추상 기본 클래스이며 do_say 메서드 포함\n",
    "    Animal 인터페이스를 통해 Cat Dog이라는 \n",
    "    \"\"\"\n",
    "    @abstractmethod\n",
    "    def do_say(self):\n",
    "        pass\n",
    "\n",
    "class Dog(Animal):\n",
    "    def do_say(self):\n",
    "        print(\"멍멍\")\n",
    "\n",
    "class Cat(Animal):\n",
    "    def do_say(self):\n",
    "        print(\"야옹\")\n",
    "\n",
    "## forest factory 정의\n",
    "class ForestFactory(object):\n",
    "    def make_sound(self, object_type):\n",
    "        return eval(object_type)().do_say()\n",
    "\n",
    "## 클라이언트 코드\n",
    "ff = ForestFactory()\n",
    "animal = input(\"Dog, Cat?\")\n",
    "ff.make_sound(animal)"
   ]
  },
  {
   "cell_type": "code",
   "execution_count": null,
   "metadata": {},
   "outputs": [],
   "source": []
  }
 ],
 "metadata": {
  "kernelspec": {
   "display_name": "Python 3",
   "language": "python",
   "name": "python3"
  },
  "language_info": {
   "codemirror_mode": {
    "name": "ipython",
    "version": 3
   },
   "file_extension": ".py",
   "mimetype": "text/x-python",
   "name": "python",
   "nbconvert_exporter": "python",
   "pygments_lexer": "ipython3",
   "version": "3.7.3"
  }
 },
 "nbformat": 4,
 "nbformat_minor": 2
}
