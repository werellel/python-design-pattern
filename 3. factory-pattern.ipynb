{
 "cells": [
  {
   "cell_type": "markdown",
   "metadata": {},
   "source": [
    "## 팩토리 패턴 개요\n",
    "\n",
    "객체지향 프로그래밍에서 팩토리란 다른 클래스의 객체를 생성하는 클래스를 말한다.\n",
    "클라이언트는 특정 인자와 함께 메소드를 호출하고 팩토리는 해당 객체를 생성하고 반환한다.\n",
    "\n",
    "팩토리가 필요한 이유\n",
    "    * 객체 생성과 클래스 구현을 나눠 상호 의존도를 줄인다.\n",
    "    * 클라이언트는 생성하려는 객체 클래스 구현과 상관없이 사용할 수 있다.객체를 생성할 때 필요한 인터페이스와 메소드, 인자 당의 정보만 있으면 된다.\n",
    "    * 코드를 수정하지 않고 간단하게 팩토리에서 새로운 클래스를 추가할 수 있다. 인자 추가가 전부인 경우도 있다.\n",
    "    * 이미 생성된 객체를 팩토리가 재활용할 수 있다.\n",
    "\n",
    "팩토리 패턴 종류 3가지\n",
    "    * 심플 팩토리 패턴: 인터페이스는 개게 생성 로직을 숨기고 객체를 생성\n",
    "    * 팩토리 메소드 패턴: 인터페이스를 통해 객체를 생성. 서브 클래스가 객체 생성에 필요한 클래스 선택.\n",
    "    * 추상 팩토리 패턴\" 객체 생성에 필요한 클래스를 노출하지 않고 객체를 생성하는 인터페이스\n",
    "\n",
    "## 심플 팩토리 패턴"
   ]
  },
  {
   "cell_type": "code",
   "execution_count": 3,
   "metadata": {},
   "outputs": [
    {
     "name": "stdout",
     "output_type": "stream",
     "text": [
      "Dog, Cat?Cat\n",
      "야옹\n"
     ]
    }
   ],
   "source": [
    "from abc import ABCMeta, abstractmethod\n",
    "\n",
    "# ABCMeta는 파이썬에서 특정 클래스를 Abstract로 선언하는 특수 메타클래스\n",
    "class Animal(metaclass=ABCMeta):\n",
    "    \"\"\"\n",
    "    추상 기본 클래스이며 do_say 메서드 포함\n",
    "    Animal 인터페이스를 통해 Cat, Dog을 생성할 수 있다.\n",
    "    \"\"\"\n",
    "    @abstractmethod\n",
    "    def do_say(self):\n",
    "        pass\n",
    "\n",
    "class Dog(Animal):\n",
    "    def do_say(self):\n",
    "        print(\"멍멍\")\n",
    "\n",
    "class Cat(Animal):\n",
    "    def do_say(self):\n",
    "        print(\"야옹\")\n",
    "\n",
    "## forest factory 정의\n",
    "class ForestFactory(object):\n",
    "    \"\"\"\n",
    "    클라이언트가 전달하는 인자에 따라 Animal 인스턴스가 런타임에 생성되고 울음소리를 출력\n",
    "    \"\"\"\n",
    "    def make_sound(self, object_type):\n",
    "        return eval(object_type)().do_say()\n",
    "\n",
    "## 클라이언트 코드\n",
    "ff = ForestFactory()\n",
    "animal = input(\"Dog, Cat?\")\n",
    "ff.make_sound(animal)"
   ]
  },
  {
   "cell_type": "markdown",
   "metadata": {},
   "source": [
    "## 팩토리 메소드 패턴\n",
    "\n",
    "* 인터페이스를 통해 객체를 생성하지만 팩토리가 아닌 서브 클래스가 해당 객체 생성을 위해 어떤 클래스를 호출할지 결정\n",
    "* 팩토리 메소드는 인스턴스화가 아닌 상속을 통해 객체를 생성\n",
    "* 팩토리 메소드 디자인은 유동적이다. 인스턴스나 서브 클래스 객체를 반환할 수 있다.\n",
    "\n",
    "### 팩토리 메소드 구현\n",
    "\n",
    "프로필을 생성하는 프로그램"
   ]
  },
  {
   "cell_type": "code",
   "execution_count": 4,
   "metadata": {},
   "outputs": [],
   "source": [
    "from abc import ABCMeta, abstractmethod\n",
    "\n",
    "class Section(metaclass=ABCMeta):\n",
    "    @abstractmethod\n",
    "    def describe(self):\n",
    "        pass\n",
    "    \n",
    "class PersonalSection(Section):\n",
    "    def describe(self):\n",
    "        print(\"Personal Section\")\n",
    "        \n",
    "class AlbumSection(Section):\n",
    "    def describe(self):\n",
    "        print(\"Album Section\")\n",
    "\n",
    "class PatentSection(Section):\n",
    "    def describe(self):\n",
    "        print(\"Patent Section\")\n",
    "\n",
    "class PublicationSection(Section):\n",
    "    def describe(self):\n",
    "        print(\"Publication Section\")"
   ]
  },
  {
   "cell_type": "code",
   "execution_count": 7,
   "metadata": {},
   "outputs": [],
   "source": [
    "class Profile(metaclass=ABCMeta):\n",
    "    def __init__(self):\n",
    "        self.sections = []\n",
    "        self.createProfile()\n",
    "    @abstractmethod\n",
    "    def createProfile(self):\n",
    "        pass\n",
    "    def getSections(self):\n",
    "        return self.sections\n",
    "    def addSections(self, section):\n",
    "        self.sections.append(section)\n",
    "\n",
    "class linkedin(Profile):\n",
    "    def createProfile(self):\n",
    "        self.addSections(PersonalSection())\n",
    "        self.addSections(PatentSection())\n",
    "        self.addSections(PublicationSection())\n",
    "\n",
    "class facebook(Profile):\n",
    "    def createProfile(self):\n",
    "        self.addSections(PersonalSection())\n",
    "        self.addSections(AlbumSection())"
   ]
  },
  {
   "cell_type": "code",
   "execution_count": 8,
   "metadata": {},
   "outputs": [
    {
     "name": "stdout",
     "output_type": "stream",
     "text": [
      "어떤 프로파일을 생성할까요? [linkedin or facebook]facebook\n",
      "프로필 생성 facebook\n",
      "프로필 섹션 -- [<__main__.PersonalSection object at 0x10b5b2048>, <__main__.AlbumSection object at 0x10b5b2c50>]\n"
     ]
    }
   ],
   "source": [
    "profile_type = input(\"어떤 프로파일을 생성할까요? [linkedin or facebook]\")\n",
    "profile = eval(profile_type.lower())()\n",
    "print(\"프로필 생성\", type(profile).__name__)\n",
    "print(\"프로필 섹션 --\", profile.getSections())\n"
   ]
  },
  {
   "cell_type": "markdown",
   "metadata": {},
   "source": [
    "* 매개변수로 받은 expression (=식)을 문자열로 받아서, 실행하는 함수\n",
    "* 매개변수로 받은 expression은 파이썬에서 실행 가능한 문자열이 들어와야 한다는것이고, 문자열로 들어온 그 expression을 파이썬이 실행해주는 그런 함수\n",
    "\n",
    "### 팩토리 메소드 패턴의 장점\n",
    "\n",
    "* 유연성과 포괄성을 갖추며 한 클래스에 종속되지 않는다. ConcreteProduct가 아닌 인터페이스(Product)에 의존한다.\n",
    "* 객체를 생성하는 코드와 활용하는 코드를 분리해 의존성이 줄어든다. 클라이언트는 인자나 어떤 클래스가 생성되는지 알 필요가 없다. 새로운 클래스 추가 등의 유지보수가 쉽다.\n",
    "\n",
    "## 추상 팩토리 패턴\n",
    "\n",
    "클래스를 직접 호출하지 않고 관련된 객체를 생성하는 인터페이스를 제공하는 것이다. 팩토리 메소드가 인스턴스 생성을 서브 클래스에게 맡기는 반면 추상 팩토리 메소드는 관련된 객체의 집합을 생성한다.\n",
    "\n",
    "클라이언트는 오직 인터페이스를 통해 객체에 접근할 수 있다. 객체 집단 중 일부가 필요할 때는 추상 팩토리 패턴을 통해 접근할 수 있다. 예를 들어 애플리케이션이 플랫폼 독립적이라면 OS나 파일 시스템 호출 등의 종속성을 없애야 한다. 추상 팩토리 패턴은 플랫폼에 필요한 서비스 생성을 알아서 처리한다. \n",
    "\n",
    "### 추상 팩토리 패턴 구현\n",
    "\n",
    "피자 가게를 만들 경우 인도식 피자와 미국식 피자를 만든다는 가정하에 구현하겠다."
   ]
  },
  {
   "cell_type": "code",
   "execution_count": 16,
   "metadata": {},
   "outputs": [],
   "source": [
    "from abc import ABCMeta, abstractmethod\n",
    "\n",
    "class PizzaFactory(metaclass=ABCMeta):\n",
    "    \n",
    "    @abstractmethod\n",
    "    def createVegPizza(self):\n",
    "        pass\n",
    "    \n",
    "    @abstractmethod\n",
    "    def createNonVegPizza(self):\n",
    "        pass\n",
    "\n",
    "class IndianPizzaFactory(PizzaFactory):\n",
    "    def createVegPizza(self):\n",
    "        return DeluxVeggiePizza()\n",
    "    \n",
    "    def createNonVegPizza(self):\n",
    "        return ChickenPizza()\n",
    "    \n",
    "class USPizzaFactory(PizzaFactory):\n",
    "    def createVegPizza(self):\n",
    "        return MexicanVegPizza()\n",
    "    \n",
    "    def createNonVegPizza(self):\n",
    "        return HamPizza()"
   ]
  },
  {
   "cell_type": "markdown",
   "metadata": {},
   "source": [
    "DeluxVeggiePizza와 MexicanVegPizza를 선언하고 prepare 메소드 구현\n",
    "ChickenPizza와 HamPizza를 선언하고 serve 메소드를 구현"
   ]
  },
  {
   "cell_type": "code",
   "execution_count": 17,
   "metadata": {},
   "outputs": [],
   "source": [
    "class VegPizza(metaclass=ABCMeta):\n",
    "    @abstractmethod\n",
    "    def prepare(self, VegPizza):\n",
    "        pass\n",
    "\n",
    "class NonVegPizza(metaclass=ABCMeta):\n",
    "    @abstractmethod\n",
    "    def serve(self, VegPizza):\n",
    "        pass\n",
    "    \n",
    "class DeluxVeggiePizza(VegPizza):\n",
    "    def prepare(self):\n",
    "        print(\"Prepare \", type(self).__name__)\n",
    "\n",
    "class ChickenPizza(NonVegPizza):\n",
    "    def serve(self, VegPizza):\n",
    "        print(type(self).__name__, \" is served with Chiken on\", type(VegPizza).__name__)\n",
    "    \n",
    "class MexicanVegPizza(VegPizza):\n",
    "    def prepare(self):\n",
    "        print(\"Prepare \", type(self).__name__)\n",
    "\n",
    "class HamPizza(NonVegPizza):\n",
    "    def serve(self, VegPizza):\n",
    "        print(type(self).__name__, \" is served with Ham on\", type(VegPizza).__name__)"
   ]
  },
  {
   "cell_type": "code",
   "execution_count": 18,
   "metadata": {},
   "outputs": [
    {
     "name": "stdout",
     "output_type": "stream",
     "text": [
      "Prepare  DeluxVeggiePizza\n",
      "ChickenPizza  is served with Chiken on DeluxVeggiePizza\n",
      "Prepare  MexicanVegPizza\n",
      "HamPizza  is served with Ham on MexicanVegPizza\n"
     ]
    }
   ],
   "source": [
    "class PizzaStore:\n",
    "    def __init__(self):\n",
    "        pass\n",
    "    \n",
    "    def makePizzas(self):\n",
    "        for factory in [IndianPizzaFactory(), USPizzaFactory()]:\n",
    "            self.factory = factory\n",
    "            self.NonVegPizza = self.factory.createNonVegPizza()\n",
    "            self.VegPizza = self.factory.createVegPizza()\n",
    "            self.VegPizza.prepare()\n",
    "            self.NonVegPizza.serve(self.VegPizza)\n",
    "\n",
    "pizza = PizzaStore()\n",
    "pizza.makePizzas()"
   ]
  },
  {
   "cell_type": "markdown",
   "metadata": {},
   "source": [
    "## 팩토리 메소드 vs 추상 팩토리 메소드\n",
    "\n",
    "* 팩토리 메소드: \n",
    "    * 객체 생성에 필요한 메소드가 사용자게에 노출, \n",
    "    * 어떤 객체를 생성할지 결정하는 상속과 서브 클래스 필요, \n",
    "    * 한 개의 객체를 생성하는 팩토리 메소드 사용\n",
    "\n",
    "* 추상 팩토리 메소드: \n",
    "    * 관련된 객체 집단을 생성하기 위해 한 개 이상의 팩토리 메소드 필요, \n",
    "    * 다른 클래스 객체를 생성하기 위해 컴포지션 사용, \n",
    "    * 관련된 객체 집단을 생성"
   ]
  }
 ],
 "metadata": {
  "kernelspec": {
   "display_name": "Python 3",
   "language": "python",
   "name": "python3"
  },
  "language_info": {
   "codemirror_mode": {
    "name": "ipython",
    "version": 3
   },
   "file_extension": ".py",
   "mimetype": "text/x-python",
   "name": "python",
   "nbconvert_exporter": "python",
   "pygments_lexer": "ipython3",
   "version": "3.7.3"
  }
 },
 "nbformat": 4,
 "nbformat_minor": 2
}
