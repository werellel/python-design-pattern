{
 "cells": [
  {
   "cell_type": "markdown",
   "metadata": {},
   "source": [
    "## 커맨드 디자인 패턴\n",
    "\n",
    "커맨드 패턴은 객체가 특정 기능을 바로 수행하거나 나중에 트리거할 때 필요한 모든 정보를 캡슐화하는 행동 패턴이다. 캡슐화하는 정보는 다음과 같다.\n",
    "\n",
    "* 메소드명\n",
    "* 메소드를 소유하는 객체\n",
    "* 메소드 인자\n",
    "\n",
    "프린트 스풀러는 종이 크기, 가로/세로, 부수 등의 설정을 Command 객체에 저장한다. 인쇄를 요청하면 스풀러는 Command 객체의 execute() 함수를 호출하고 설정대로 인쇄한다.\n",
    "\n",
    "## 커맨드 패턴 구성 요소\n",
    "\n",
    "커맨드 패턴은 Command와 Receiver, Invoker, Client 클래스로 구성된다.\n",
    "\n",
    "* Command 객체는 Receiver 객체에 대해 알고 있으며 Receiver 객체의 함수를 호출\n",
    "* Receiver 함수의 인자는 Command에 저장돼 있다.\n",
    "* Invoker는 명령을 수행한다.\n",
    "* Client는 Command 객체를 생성하고 Receiver를 정한다.\n",
    "\n",
    "커맨드 패턴의 목적\n",
    "\n",
    "* 요청을 객체 속에 캡슐화\n",
    "* 클라이언트의 다양한 요청을 매개변수화\n",
    "* 유청을 큐에 저장\n",
    "* 객체지향 콜백을 지원\n",
    "\n",
    "커맨드 패턴의 적합한 상황\n",
    "\n",
    "* 수행할 명령에 따라 객체를 변수화할 때\n",
    "* 요청을 큐에 저장하고 각기 다른 시점에 수행해야 하는 경우\n",
    "* 작은 단위의 연산을 기반으로 하는 상위 연산을 만들 때"
   ]
  },
  {
   "cell_type": "code",
   "execution_count": 3,
   "metadata": {},
   "outputs": [
    {
     "name": "stdout",
     "output_type": "stream",
     "text": [
      "Copy binaries -- python3.6.gzip  to  /usr/bin/\n",
      "No Operation\n",
      "Copy binaries -- python3.6.gzip  to  /usr/bin/\n"
     ]
    }
   ],
   "source": [
    "class Wizard():\n",
    "    def __init__(self, src, rootdir):\n",
    "        self.choices = []\n",
    "        self.rootdir = rootdir\n",
    "        self.src = src\n",
    "    \n",
    "    def preferences(self, command):\n",
    "        self.choices.append(command)\n",
    "    \n",
    "    def execute(self):\n",
    "        for choice in self.choices:\n",
    "            if list(choice.values())[0]:\n",
    "                print(\"Copy binaries --\", self.src, \" to \", self.rootdir)\n",
    "            else:\n",
    "                print(\"No Operation\")\n",
    "\n",
    "# 클라이언트 코드\n",
    "wizard = Wizard('python3.6.gzip', '/usr/bin/')\n",
    "\n",
    "# 사용자가 원하는 파이썬 선택\n",
    "wizard.preferences({'python': True})\n",
    "wizard.preferences({'java': False})\n",
    "wizard.preferences({'c': True})\n",
    "wizard.execute()"
   ]
  },
  {
   "cell_type": "markdown",
   "metadata": {},
   "source": [
    "* Command: 연산을 수행할 인터페이스를 정의\n",
    "* ConcreteCommand: Receiver 객체와 연산간 바인딩을 정의\n",
    "* Client: ConcreteCommand 객체를 생성하고 Receiver를 설정\n",
    "* Invoker: ConcreteCommand에 수행을 요청\n",
    "* Receiver: 요청에 관련된 연산을 관리\n",
    "\n",
    "클라이언트는 특정 연산을 요청하고 Invoker는 요청을 받아 캡슐화해 큐에 넣는다. ConcreteCommand 클래스는 이 요청을 책임지고 Receiver에 수행을 맡긴다."
   ]
  },
  {
   "cell_type": "code",
   "execution_count": 5,
   "metadata": {},
   "outputs": [
    {
     "name": "stdout",
     "output_type": "stream",
     "text": [
      "Receiver Action\n"
     ]
    }
   ],
   "source": [
    "from abc import ABCMeta, abstractmethod\n",
    "\n",
    "class Command(metaclass = ABCMeta):\n",
    "    def __init__(self, recv):\n",
    "        self.recv = recv\n",
    "        \n",
    "    def execute(self):\n",
    "        pass\n",
    "    \n",
    "class ConcreteCommand(Command):\n",
    "    def __init__(self, recv):\n",
    "        self.recv = recv\n",
    "    \n",
    "    def execute(self):\n",
    "        self.recv.action()\n",
    "\n",
    "class Receiver:\n",
    "    def action(self):\n",
    "        print(\"Receiver Action\")\n",
    "\n",
    "class Invoker:\n",
    "    def command(self, cmd):\n",
    "        self.cmd = cmd\n",
    "    \n",
    "    def execute(self):\n",
    "        self.cmd.execute()\n",
    "\n",
    "recv = Receiver()\n",
    "cmd = ConcreteCommand(recv)\n",
    "invoker = Invoker()\n",
    "invoker.command(cmd)\n",
    "invoker.execute()"
   ]
  },
  {
   "cell_type": "markdown",
   "metadata": {},
   "source": [
    "## 커맨드 패턴의 실제 활용 사례\n",
    "\n",
    "증권거래소를 커맨드 패턴으로 구현해본다. 일반적으로 고객이 주식을 직접 사거나 팔지 않고 에이전트나 브로커가 고객과 거래소 사이에서 중개자 역할을 한다. 중개사는 고객의 요청을 받아 책임지고 거래소에 전달해 처리한다.\n",
    "\n",
    "### 클래스 설계\n",
    "\n",
    "* Order 클래스는 Command 객체를 나타낸다.\n",
    "* Order 클래스는 파이썬의 추상 기본 클래스인 인터페이스이며 Concrete Command는 이를 기반으로 세부 로직을 구현한다.\n",
    "* execute() 메소드는 ConcreteCommand 클래스가 Order 클래스를 실행하는 추상 메소드다.\n",
    "\n",
    "다음처럼 Order 추상 클래스와 execute() 추상 메소드를 정의한다."
   ]
  },
  {
   "cell_type": "code",
   "execution_count": 6,
   "metadata": {},
   "outputs": [],
   "source": [
    "from abc import ABCMeta, abstractmethod\n",
    "\n",
    "class Order(metaclass=ABCMeta):\n",
    "    \n",
    "    @abstractmethod\n",
    "    def execute(self):\n",
    "        pass"
   ]
  },
  {
   "cell_type": "markdown",
   "metadata": {},
   "source": [
    "ConcreteCommand를 나타내는 몇 가지 클래스를 작성\n",
    "\n",
    "* BuyStockOrder와 SellStockOrder는 Order 인터페이스를 구현하는 구상 클래스다.\n",
    "* 각 클래스는 증권 거래 시스템 객체를 사용해 주식을 매수 또는 매도한다.\n",
    "* 각 클래스의 execute() 메소드는 주식 객체를 통해 주식을 매수 또는 매도한다.\n",
    "\n",
    "Order 인터페이스를 구현하는 구상 클래스를 작성한다."
   ]
  },
  {
   "cell_type": "code",
   "execution_count": 7,
   "metadata": {},
   "outputs": [],
   "source": [
    "class BuyStockOrder(Order):\n",
    "    def __init__(self, stock):\n",
    "        self.stock = stock\n",
    "    \n",
    "    def execute(self):\n",
    "        self.stock.buy()\n",
    "\n",
    "class SellStockOrder(Order):\n",
    "    def __init__(self, stock):\n",
    "        self.stock = stock\n",
    "    \n",
    "    def execute(self):\n",
    "        self.stock.sell()"
   ]
  },
  {
   "cell_type": "markdown",
   "metadata": {},
   "source": [
    "다음은 증권 거래 시스템을 구현\n",
    "\n",
    "* StockTrade 클래스는 Receiver 객체\n",
    "* ConcreteCommand 객체가 생성한 주문을 처리하는 여러 메소드를 정의\n",
    "* Receiver에 정의된 buy()와 sell() 메소드는 BuyStockOrder와 SellStockOrder 클래스가 주식을 매수 또는 매도할 떄 호출\n",
    "\n",
    "StockTrade 클래스 작성"
   ]
  },
  {
   "cell_type": "code",
   "execution_count": 11,
   "metadata": {},
   "outputs": [],
   "source": [
    "class StockTrade:\n",
    "    def buy(self):\n",
    "        print(\"매수\")\n",
    "    \n",
    "    def sell(self):\n",
    "        print(\"매도\")"
   ]
  },
  {
   "cell_type": "markdown",
   "metadata": {},
   "source": [
    "Invoker 구현\n",
    "\n",
    "* Agent 클래스는 Invoker\n",
    "* Agent는 클라이언트와 StockExchange 객체 사이의 중개자이며 클라이언트의 주문을 처리\n",
    "* Agent에는 큐를 나타내는 \\__orderQueue 리스트형 데이터 멤버가 있다. 모든 신규 주문건은 큐에 추가\n",
    "* placeOrder() 메소드는 주문을 큐에 넣고 처리까지 담당\n",
    "\n",
    "Invoker 역할을 하는 Agent 클래스를 작성"
   ]
  },
  {
   "cell_type": "code",
   "execution_count": 12,
   "metadata": {},
   "outputs": [],
   "source": [
    "class Agent:\n",
    "    def __init__(self):\n",
    "        self.__orderQueue = []\n",
    "    \n",
    "    def placeOrder(self, order):\n",
    "        self.__orderQueue.append(order)\n",
    "        order.execute()"
   ]
  },
  {
   "cell_type": "markdown",
   "metadata": {},
   "source": [
    "위를 바탕으로 클라이언트 구현을 생각해보자.\n",
    "\n",
    "* 클라이언트는 우선 StockTrade 클래스를 Receiver로 지정한다.\n",
    "* BuyStockOrder와 SellStockOrder(ConcreteCommand)는 StockTarde 객체에 대해 거래를 요청해 주문을 생성\n",
    "* Invoker 객체는 Agent 클래스를 인터페이스화할 떄 생성된다.\n",
    "* Agent 클래스의 placeOrder() 메소드는 클라이언트의 요청을 주문한다.\n",
    "\n",
    "클라이언트 구현"
   ]
  },
  {
   "cell_type": "code",
   "execution_count": 13,
   "metadata": {},
   "outputs": [
    {
     "name": "stdout",
     "output_type": "stream",
     "text": [
      "매수\n",
      "매도\n"
     ]
    }
   ],
   "source": [
    "stock = StockTrade()\n",
    "buyStock = BuyStockOrder(stock)\n",
    "sellStock = SellStockOrder(stock)\n",
    "\n",
    "agent = Agent()\n",
    "agent.placeOrder(buyStock)\n",
    "agent.placeOrder(sellStock)"
   ]
  },
  {
   "cell_type": "markdown",
   "metadata": {},
   "source": [
    "클라우드 기반 애플리케이션에서 자주 발생하는 두 가지 상황을 살펴보자.\n",
    "\n",
    "* 리두 또는 롤백\n",
    "    * 리두 또는 롤백 기능은 두 가지 구현 방법이 있다.\n",
    "    * 파일시스템이나 메모리에 스냅샷을 생성하고 롤백이 필요할 때 해당 스냅샷 상태로 되돌린다.\n",
    "    * 커맨드 패턴을 사용할 경우 커맨드를 순서대로 저장하고 리두가 필요할 떄 저장된 명령을 순차적으로 실행한다.\n",
    "\n",
    "* 비동기 작업 수행\n",
    "    * 분산 환경에서 코어 서비스에 요청이 몰리지 않도록 작업을 비동기로 수행하는 경우가 많다.\n",
    "    * 커맨드 패턴의 Invoker 객체는 모든 요청을 큐에 저장하고 순차적으로 Receiver 객체에 보내어 메인 스레드로부터 독립적으로 수행한다.\n",
    "    \n",
    "## 커맨드 패턴의 장단점\n",
    "\n",
    "장점\n",
    "\n",
    "* 작업을 요청하는 클래스와 실제로 작업을 수행하는 클래스를 분리\n",
    "* 큐에 커맨드를 순서대로 저장\n",
    "* 기존 코드를 수정하지 않고 새로운 커맨드를 쉽게 추가할 수 있다.\n",
    "* 커맨드 패턴으로 롤백 시스템을 구현할 수 있다. 예로 들었던 인스톨 위저드에 롤백 메소드를 쉽게 추가할 수 있다.\n",
    "\n",
    "단점\n",
    "\n",
    "* 클래스와 객체가 많다. 개발자는 신중하게 클래스를 작성해야 한다.\n",
    "* 모든 작업이 독립적인 ConcreteCommand 클래스이므로 구현 및 유지보수해야 하는 클래스가 많다."
   ]
  }
 ],
 "metadata": {
  "kernelspec": {
   "display_name": "Python 3",
   "language": "python",
   "name": "python3"
  },
  "language_info": {
   "codemirror_mode": {
    "name": "ipython",
    "version": 3
   },
   "file_extension": ".py",
   "mimetype": "text/x-python",
   "name": "python",
   "nbconvert_exporter": "python",
   "pygments_lexer": "ipython3",
   "version": "3.7.3"
  }
 },
 "nbformat": 4,
 "nbformat_minor": 2
}
