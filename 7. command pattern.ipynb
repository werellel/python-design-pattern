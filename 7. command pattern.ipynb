{
 "cells": [
  {
   "cell_type": "markdown",
   "metadata": {},
   "source": [
    "## 커맨드 디자인 패턴\n",
    "\n",
    "커맨드 패턴은 객체가 특정 기능을 바로 수행하거나 나중에 트리거할 때 필요한 모든 정보를 캡슐화하는 행동 패턴이다. 캡슐화하는 정보는 다음과 같다.\n",
    "\n",
    "* 메소드명\n",
    "* 메소드를 소유하는 객체\n",
    "* 메소드 인자\n",
    "\n",
    "프린트 스풀러는 종이 크기, 가로/세로, 부수 등의 설정을 Command 객체에 저장한다. 인쇄를 요청하면 스풀러는 Command 객체의 execute() 함수를 호출하고 설정대로 인쇄한다.\n",
    "\n",
    "## 커맨드 패턴 구성 요소\n",
    "\n",
    "커맨드 패턴은 Command와 Receiver, Invoker, Client 클래스로 구성된다.\n",
    "\n",
    "* Command 객체는 Receiver 객체에 대해 알고 있으며 Receiver 객체의 함수를 호출\n",
    "* Receiver 함수의 인자는 Command에 저장돼 있다.\n",
    "* Invoker는 명령을 수행한다.\n",
    "* Client는 Command 객체를 생성하고 Receiver를 정한다.\n",
    "\n",
    "커맨드 패턴의 목적\n",
    "\n",
    "* 요청을 객체 속에 캡슐화\n",
    "* 클라이언트의 다양한 요청을 매개변수화\n",
    "* 유청을 큐에 저장\n",
    "* 객체지향 콜백을 지원\n",
    "\n",
    "커맨드 패턴의 적합한 상황\n",
    "\n",
    "* 수행할 명령에 따라 객체를 변수화할 때\n",
    "* 요청을 큐에 저장하고 각기 다른 시점에 수행해야 하는 경우\n",
    "* 작은 단위의 연산을 기반으로 하는 상위 연산을 만들 때"
   ]
  },
  {
   "cell_type": "code",
   "execution_count": 3,
   "metadata": {},
   "outputs": [
    {
     "name": "stdout",
     "output_type": "stream",
     "text": [
      "Copy binaries -- python3.6.gzip  to  /usr/bin/\n",
      "No Operation\n",
      "Copy binaries -- python3.6.gzip  to  /usr/bin/\n"
     ]
    }
   ],
   "source": [
    "class Wizard():\n",
    "    def __init__(self, src, rootdir):\n",
    "        self.choices = []\n",
    "        self.rootdir = rootdir\n",
    "        self.src = src\n",
    "    \n",
    "    def preferences(self, command):\n",
    "        self.choices.append(command)\n",
    "    \n",
    "    def execute(self):\n",
    "        for choice in self.choices:\n",
    "            if list(choice.values())[0]:\n",
    "                print(\"Copy binaries --\", self.src, \" to \", self.rootdir)\n",
    "            else:\n",
    "                print(\"No Operation\")\n",
    "\n",
    "# 클라이언트 코드\n",
    "wizard = Wizard('python3.6.gzip', '/usr/bin/')\n",
    "\n",
    "# 사용자가 원하는 파이썬 선택\n",
    "wizard.preferences({'python': True})\n",
    "wizard.preferences({'java': False})\n",
    "wizard.preferences({'c': True})\n",
    "wizard.execute()"
   ]
  },
  {
   "cell_type": "markdown",
   "metadata": {},
   "source": [
    "* Command: 연산을 수행할 인터페이스를 정의\n",
    "* ConcreteCommand: Receiver 객체와 연산간 바인딩을 정의\n",
    "* Client: ConcreteCommand 객체를 생성하고 Receiver를 설정\n",
    "* Invoker: ConcreteCommand에 수행을 요청\n",
    "* Receiver: 요청에 관련된 연산을 관리\n",
    "\n",
    "클라이언트는 특정 연산을 요청하고 Invoker는 요청을 받아 캡슐화해 큐에 넣는다. ConcreteCommand 클래스는 이 요청을 책임지고 Receiver에 수행을 맡긴다."
   ]
  },
  {
   "cell_type": "code",
   "execution_count": 5,
   "metadata": {},
   "outputs": [
    {
     "name": "stdout",
     "output_type": "stream",
     "text": [
      "Receiver Action\n"
     ]
    }
   ],
   "source": [
    "from abc import ABCMeta, abstractmethod\n",
    "\n",
    "class Command(metaclass = ABCMeta):\n",
    "    def __init__(self, recv):\n",
    "        self.recv = recv\n",
    "        \n",
    "    def execute(self):\n",
    "        pass\n",
    "    \n",
    "class ConcreteCommand(Command):\n",
    "    def __init__(self, recv):\n",
    "        self.recv = recv\n",
    "    \n",
    "    def execute(self):\n",
    "        self.recv.action()\n",
    "\n",
    "class Receiver:\n",
    "    def action(self):\n",
    "        print(\"Receiver Action\")\n",
    "\n",
    "class Invoker:\n",
    "    def command(self, cmd):\n",
    "        self.cmd = cmd\n",
    "    \n",
    "    def execute(self):\n",
    "        self.cmd.execute()\n",
    "\n",
    "recv = Receiver()\n",
    "cmd = ConcreteCommand(recv)\n",
    "invoker = Invoker()\n",
    "invoker.command(cmd)\n",
    "invoker.execute()"
   ]
  },
  {
   "cell_type": "markdown",
   "metadata": {},
   "source": [
    "## 커맨드 패턴의 실제 활용 사례\n",
    "\n"
   ]
  }
 ],
 "metadata": {
  "kernelspec": {
   "display_name": "Python 3",
   "language": "python",
   "name": "python3"
  },
  "language_info": {
   "codemirror_mode": {
    "name": "ipython",
    "version": 3
   },
   "file_extension": ".py",
   "mimetype": "text/x-python",
   "name": "python",
   "nbconvert_exporter": "python",
   "pygments_lexer": "ipython3",
   "version": "3.7.3"
  }
 },
 "nbformat": 4,
 "nbformat_minor": 2
}
